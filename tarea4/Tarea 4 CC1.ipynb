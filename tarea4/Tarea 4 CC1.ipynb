{
 "cells": [
  {
   "cell_type": "markdown",
   "metadata": {
    "deletable": true,
    "editable": true
   },
   "source": [
    "<center>\n",
    "    <h1> ILI285 - Computación Científica I  / INF285 - Computación Científica </h1>\n",
    "    <h2> Tarea 4 </h2>\n",
    "    <h2> [S]cientific [C]omputing [T]eam </h2>\n",
    "</center>\n",
    "\n",
    "_Mayo 2017_"
   ]
  },
  {
   "cell_type": "markdown",
   "metadata": {
    "deletable": true,
    "editable": true
   },
   "source": [
    "<div id='obj' />\n",
    "# 1. Objetivos\n",
    "\n",
    "<ul>\n",
    "<li>Analizar distintos métodos iterativos para resolver sistemas de ecuaciones lineales y diferenciar el desempeño bajo distintos problemas</li>\n",
    "</ul>"
   ]
  },
  {
   "cell_type": "code",
   "execution_count": 1,
   "metadata": {
    "collapsed": true,
    "deletable": true,
    "editable": true
   },
   "outputs": [],
   "source": [
    "%matplotlib inline\n",
    "import numpy as np\n",
    "import scipy as sp\n",
    "from scipy.linalg import solve\n",
    "import matplotlib as mpl\n",
    "from mpl_toolkits.mplot3d import Axes3D\n",
    "from mpl_toolkits.mplot3d import axes3d\n",
    "from matplotlib import cm\n",
    "import matplotlib.mlab as mlab\n",
    "from matplotlib.widgets import Slider, Button, RadioButtons\n",
    "import matplotlib.pyplot as plt\n",
    "from ipywidgets.widgets import interact\n",
    "from ipywidgets import widgets\n",
    "import matplotlib\n",
    "import matplotlib.cm as cm\n",
    "\n",
    "matplotlib.rcParams['xtick.direction'] = 'out'\n",
    "matplotlib.rcParams['ytick.direction'] = 'out'\n",
    "matplotlib.rcParams['axes.titlesize'] = 16\n",
    "matplotlib.rcParams['axes.labelsize'] = 20\n",
    "matplotlib.rcParams['xtick.labelsize'] = 16\n",
    "matplotlib.rcParams['ytick.labelsize'] = 16"
   ]
  },
  {
   "cell_type": "markdown",
   "metadata": {
    "deletable": true,
    "editable": true
   },
   "source": [
    "#  Métodos Iterativos\n",
    "\n"
   ]
  },
  {
   "cell_type": "markdown",
   "metadata": {
    "deletable": true,
    "editable": true
   },
   "source": [
    "<h3> Método de Newton </h3>\n",
    "<p style=\"font-size:16px\"> El método de Newton, consiste en encontrar de forma iterativa aproximaciones a las raices o ceros de una función real.</p>\n",
    "\n",
    "$$ f(r) = 0$$\n",
    "<p style=\"font-size:16px\"> Para iniciar el método es necesario: una función $f$ definida sobre números reales, definir un punto de inicio $x_0$ ,y finalmente la derivada de la función $f'$. Una primera aproximación es encontrada, y luego se repite el siguiente proceso hasta alcanzar un criterio de convergencia:</p>\n",
    "\n",
    "$$ x_{n+1} = x_n - \\frac{f(x_n)}{f'({x_n})}$$\n",
    "\n",
    "<p style=\"font-size:16px\"> Para casos mas grandes, por ejemplo, resolver un sistema de $k$ ecuaciones<b> no lineales</b>, es necesario encontrar la raiz de $k$ ecuaciones, de modo que $F : \\mathbb{R}^k \\rightarrow \\mathbb{R}^k$. Esto significa:\n",
    "\n",
    "<p style=\"font-size:16px\">\n",
    "$$F(\\mathbf{r})=\n",
    "\\begin{bmatrix}\n",
    "   f_1(\\mathbf{r})\\\\\n",
    "   \\vdots\\\\\n",
    "   f_k(\\mathbf{r})\n",
    "\\end{bmatrix}\n",
    "=\n",
    "\\begin{bmatrix}\n",
    "   f_1(r_1,r_2,\\dots,r_k)\\\\\n",
    "   \\vdots\\\\\n",
    "   f_k(r_1,r_2,\\dots,r_k)\n",
    "\\end{bmatrix}=\\mathbf{0}\n",
    "$$\n",
    "\n",
    "<p style=\"font-size:16px\">\n",
    "Dada la fórmula mencionada anteriormente se puede encontrar la siguiente extensión donde uno debe reemplazar la derivada $f'(x_n)$ por la matriz Jacobiana de $k \\times k $ dimensiones \n",
    "$\\left.J_F\\right|_{\\mathbf{x}=\\mathbf{x}_n}$ o simplemente $J_{\\mathbf{x}_n}$, donde $\\mathbf{x}=\\langle x_1,x_2,\\dots,x_k\\rangle^T$:\n",
    "\n",
    "<p style=\"font-size:16px\">\n",
    "$$ \\left.J_F\\right|_{\\mathbf{x}=\\mathbf{x}_n} = J_{\\mathbf{x}_n} = \n",
    "\\begin{bmatrix}\n",
    "   \\frac{\\partial f_1(\\mathbf{x}_n)}{\\partial x_1} & \\cdots & \\frac{\\partial f_1(\\mathbf{x}_n)}{\\partial x_k} \\\\\n",
    "   \\vdots & \\ddots & \\vdots \\\\\n",
    "   \\frac{\\partial f_k(\\mathbf{x}_n)}{\\partial x_1} & \\cdots & \\frac{\\partial f_k(\\mathbf{x}_n)}{\\partial x_k}\n",
    "\\end{bmatrix}\n",
    "$$\n",
    "\n",
    "<p style=\"font-size:16px\"> Donde en cada paso es necesario resolver un sistema de ecuaciones lineales: </p>\n",
    "\n",
    "<p style=\"font-size:16px\">\n",
    "$$J_{\\mathbf{x}_n}\\,(\\mathbf{x}_{n+1} - \\mathbf{x}_n) = -F(\\mathbf{x}_n)$$\n",
    "\n",
    "o\n",
    "\n",
    "<p style=\"font-size:16px\">\n",
    "$$\\mathbf{x}_{n+1} =\\mathbf{x}_n -J_{\\mathbf{x}_n}^{-1}\\,F(\\mathbf{x}_n)$$\n",
    "\n",
    "<p style=\"font-size:16px\"> Vamos a buscar las raíces de la figuiente función vectorial usando el método de Newton acoplado con PALU y Gauss-Seidel : </p>\n",
    "<br>\n",
    "$$\n",
    "F(\\mathbf{x})=\n",
    "\\begin{bmatrix}\n",
    "   f_1(\\mathbf{x})\\\\\n",
    "   f_2(\\mathbf{x})\n",
    "\\end{bmatrix}\n",
    "=\\begin{bmatrix}\n",
    "   y - x^2\\\\\n",
    "   x^2 + y^2 - 1\n",
    "\\end{bmatrix}\n",
    "$$"
   ]
  },
  {
   "cell_type": "markdown",
   "metadata": {
    "deletable": true,
    "editable": true
   },
   "source": [
    "<p style=\"font-size:16px\"> A continuación se les entregará una función para visualizar los resultados de los métods iterativos al analizar paso a paso. </p>"
   ]
  },
  {
   "cell_type": "code",
   "execution_count": 20,
   "metadata": {
    "collapsed": true,
    "deletable": true,
    "editable": true
   },
   "outputs": [],
   "source": [
    "def visual(n_steps_newton=2,x00=0.5,x01=2,solver=None):\n",
    "    # Vector form of the initial guess\n",
    "    x0=np.array([x00,x01])\n",
    "\n",
    "    # The functions to be solved\n",
    "    f1v=np.vectorize(lambda x,y: y-x**2)\n",
    "    f2v=np.vectorize(lambda x,y: x**2+y**2-1)\n",
    "    nf1f2v=np.vectorize(lambda x,y: np.linalg.norm(np.array([f1v(x,y),f2v(x,y)])))\n",
    "\n",
    "    # The jacobian matrix for f1 and f2\n",
    "    JM=np.vectorize(lambda x,y: np.array([[-2*x,1],[2*x,2*y]]))\n",
    "\n",
    "    # Creating matrix to store all approximations made by the Newton's method\n",
    "    xs=np.zeros((2,n_steps_newton+1))\n",
    "    xs[:,0]=x0\n",
    "\n",
    "    # Applying Newton's method n_steps_newton\n",
    "    for n in np.arange(n_steps_newton):\n",
    "        b=np.array([[f1v(xs[0,n],xs[1,n])],[f2v(xs[0,n],xs[1,n])]])\n",
    "        # HINT: HERE IS WHERE YOU NEED TO USE PALU OR GAUSS-SEIDEL!!!\n",
    "        A = JM(xs[0,n],xs[1,n])\n",
    "        if solver is None:\n",
    "            s = np.linalg.solve(A,b)\n",
    "        else:\n",
    "            s = solver(A, b, x0)\n",
    "        xs[:,n+1]=xs[:,n] - s.T\n",
    "\n",
    "    # Data for plotting\n",
    "    x = np.linspace(-2.0, 2.0, 100)\n",
    "    y = np.linspace(-2.0, 2.0, 100)\n",
    "    [X,Y]=np.meshgrid(x,y)\n",
    "\n",
    "    # Visualization! It is very important you learn about visualization in general.\n",
    "    plt.figure(figsize=(15,7.5))\n",
    "\n",
    "    plt.subplot(1, 2, 1)\n",
    "    CS = plt.pcolor(X,Y,nf1f2v(X,Y))\n",
    "    plt.contour(X, Y, f1v(X,Y), levels=[0], colors='k')\n",
    "    plt.contour(X, Y, f2v(X,Y), levels=[0], colors='k')\n",
    "    plt.colorbar(CS)\n",
    "    plt.plot(xs[0,:],xs[1,:],'.r',markersize=5)\n",
    "    plt.plot(xs[0,:],xs[1,:],'-r')\n",
    "    plt.axis('tight')\n",
    "    plt.xlabel('$x$')\n",
    "    plt.ylabel('$y$')\n",
    "    f1_at_x0=float(f1v(xs[0,-1],xs[1,-1]))\n",
    "    f2_at_x0=float(f2v(xs[0,-1],xs[1,-1]))\n",
    "    nf1f2v_at_x0=float(nf1f2v(xs[0,-1],xs[1,-1]))\n",
    "    plt.title('Plotting $f_1=${:.16f},\\n $f_2=${:.16f},\\n $\\|[f_1,f_2]\\|_2=${:.16f}, \\n $x_n=${:.16f}\\n and $y_n=${:.16f}'.format(f1_at_x0,f2_at_x0,nf1f2v_at_x0,xs[0,-1],xs[1,-1]))\n",
    "    \n",
    "    plt.subplot(1, 2, 2)\n",
    "    x_i=xs[0,:]\n",
    "    y_i=xs[1,:]\n",
    "    plt.semilogy(np.arange(n_steps_newton+1),np.abs(f1v(x_i,y_i)),'.',label='$|f_1|$',markersize=20)\n",
    "    plt.semilogy(np.arange(n_steps_newton+1),np.abs(f2v(x_i,y_i)),'d',label='$|f_2|$',markersize=15,alpha=0.5)\n",
    "    plt.semilogy(np.arange(n_steps_newton+1),np.abs(nf1f2v(x_i,y_i)),'s',label='$\\|[f_1,f_2]\\|$',markersize=12,alpha=0.5)\n",
    "    plt.xlabel('n (Número de iteraciones)')\n",
    "    plt.grid(True)\n",
    "    plt.legend(loc='best')\n",
    "\n",
    "    plt.show()"
   ]
  },
  {
   "cell_type": "code",
   "execution_count": 11,
   "metadata": {
    "collapsed": false,
    "deletable": true,
    "editable": true
   },
   "outputs": [
    {
     "data": {
      "application/vnd.jupyter.widget-view+json": {
       "model_id": "43b31989b0594dbeb28fb2ba66d2ee6a"
      }
     },
     "metadata": {},
     "output_type": "display_data"
    },
    {
     "data": {
      "text/plain": [
       "<function __main__.visual_interact>"
      ]
     },
     "execution_count": 11,
     "metadata": {},
     "output_type": "execute_result"
    }
   ],
   "source": [
    "def visual_interact(n_steps_newton=2,x00=0.5,x01=2):\n",
    "    visual(n_steps_newton=n_steps_newton, x00=x00, x01=x01)\n",
    "\n",
    "interact(visual_interact, n_steps_newton=(1,10), x00=(-2,2,0.1), x01=(-2,2,0.1))"
   ]
  },
  {
   "cell_type": "markdown",
   "metadata": {
    "deletable": true,
    "editable": true
   },
   "source": [
    "<h3> PALU: </h3>\n",
    "<p style=\"font-size:16px\"><b>a) </b> Dentro de la función visual, reemplazar la <code>función np.linalg.solve</code> (destacado en comentarios) con el método <b>PALU</b> para resolver el sistema de ecuaciones, para los puntos iniciales indicados más abajo, ¿Que observaciones puede destacar del comportamiento del método  y las soluciones encontradas? ¿Existen mejoras si aumenta el número de iteraciones? ¿Cuantas iteraciones se necesitan para saturar la solución?</p>\n",
    "\n",
    "1. **(5 puntos)** $\\mathbf{x}_0=\\langle1,2\\rangle$\n",
    "2. **(10 puntos)** $\\mathbf{x}_0=\\langle0,2\\rangle$\n",
    "3. **(15 puntos)** $\\mathbf{x}_0=\\langle-2,-2\\rangle$"
   ]
  },
  {
   "cell_type": "code",
   "execution_count": 22,
   "metadata": {
    "collapsed": false,
    "deletable": true,
    "editable": true
   },
   "outputs": [
    {
     "data": {
      "application/vnd.jupyter.widget-view+json": {
       "model_id": "12aa824f433a4533b5b71e998376a335"
      }
     },
     "metadata": {},
     "output_type": "display_data"
    },
    {
     "data": {
      "text/plain": [
       "<function __main__.visual_palu>"
      ]
     },
     "execution_count": 22,
     "metadata": {},
     "output_type": "execute_result"
    }
   ],
   "source": [
    "def PALU(A, b, x0):\n",
    "    P, L, U = sp.linalg.lu(A)\n",
    "    c = sp.linalg.solve_triangular(L, P @ b)\n",
    "    return sp.linalg.solve_triangular(U, c)\n",
    "\n",
    "def visual_palu(n_steps_newton=2,x00=0.5,x01=2):\n",
    "    visual(n_steps_newton=n_steps_newton, x00=x00, x01=x01, solver=PALU)\n",
    "\n",
    "interact(visual_palu, n_steps_newton=(1,20), x00=(-2,2,0.1), x01=(-2,2,0.1))"
   ]
  },
  {
   "cell_type": "markdown",
   "metadata": {
    "deletable": true,
    "editable": true
   },
   "source": [
    "<h3> Métodos Iterativos: </h3>\n",
    "<p style=\"font-size:16px\"><b>b)</b> (1) Acople el método iterativo de <b>Gauss-Seidel</b> al visualizador (llamelo visual2), (2) incluya un cuarto parametro al widget para controlar el número de iteraciones de <b>Gauss-Seidel</b>, (3) use el algoritmo implementado para los siguientes puntos iniciales indicados más abajo. En ambos casos ¿Como afecta el número de iteraciones en la convergencia de la solución? </p>\n",
    "\n",
    "1. **(30 puntos)** Construir visual2: (1) Acoplando Gauss-Seidel y (2) Incluyendo un cuarto parámetro al widget\n",
    "2. **(10 puntos)** $\\mathbf{x}_0=\\langle1,2\\rangle$\n",
    "3. **(10 puntos)** $\\mathbf{x}_0=\\langle-2,-2\\rangle$"
   ]
  },
  {
   "cell_type": "code",
   "execution_count": 23,
   "metadata": {
    "collapsed": false,
    "deletable": true,
    "editable": true
   },
   "outputs": [
    {
     "data": {
      "application/vnd.jupyter.widget-view+json": {
       "model_id": "6454ee4af4c5431ba39be5b3058bd809"
      }
     },
     "metadata": {},
     "output_type": "display_data"
    },
    {
     "data": {
      "text/plain": [
       "<function __main__.visual_gs>"
      ]
     },
     "execution_count": 23,
     "metadata": {},
     "output_type": "execute_result"
    }
   ],
   "source": [
    "def gauss_seidel(A, b, x0, steps=5):\n",
    "    D = np.diag(np.diag(A))\n",
    "    L = np.tril(A) - D\n",
    "    U = np.triu(A) - D\n",
    "\n",
    "    sol = x0\n",
    "    for i in range(steps):\n",
    "        sol = np.linalg.inv(L + D) @ (b - (U @ sol).reshape((2,1)))\n",
    "    return sol\n",
    "\n",
    "def gauss_seidel_factory(steps=5):\n",
    "    return lambda A, b, x0: gauss_seidel(A, b, x0, steps=steps)\n",
    "\n",
    "def visual_gs(n_steps_newton=2, n_gs_steps=2, x00=0.5, x01=2):\n",
    "    visual(n_steps_newton=n_steps_newton, x00=x00, x01=x01, solver=gauss_seidel_factory(n_gs_steps))\n",
    "\n",
    "interact(visual_gs, n_steps_newton=(1,20), n_gs_steps=(1,50), x00=(-2,2,0.1), x01=(-2,2,0.1))"
   ]
  },
  {
   "cell_type": "markdown",
   "metadata": {},
   "source": [
    "<p style=\"font-size:16px\"><b>c) (20 Puntos)</b> Respecto al análisis realizado en el punto anterior, ¿Que información se desprende del segundo gráfico? ¿Que medida corresponde la curva $\\|[f_1 , f_2]\\|_2$ ? </p>"
   ]
  },
  {
   "cell_type": "code",
   "execution_count": null,
   "metadata": {
    "collapsed": true
   },
   "outputs": [],
   "source": []
  },
  {
   "cell_type": "markdown",
   "metadata": {
    "deletable": true,
    "editable": true
   },
   "source": [
    "# Instrucciones:\n",
    " \n",
    " \n",
    "* La estructura del laboratorio es la siguiente:\n",
    "     1. Título, nombre de estudiante, email y rol.\n",
    "     2. Introducción.\n",
    "     3. Desarrollo y análisis de resultados.\n",
    "     4. Conclusiones.\n",
    "     5. Referencias.\n",
    "* El laboratorio debe ser realizado en `Jupyter` notebook (`Python3`).\n",
    "* Se evaluará la correcta utilización de librerias `NumPy`, `SciPy`, `SymPy`, `Matplotlib` y `ipywidgets`, así como la correcta implementación de algoritmos vectorizados cuando se indique.\n",
    "* El archivo de entrega debe denominarse Tarea4-rol.tar.gz, y debe contener un directorio con todos los archivos necesarios para ejecutar el notebook, junto con un archivo README indicando explícitamente las librerías o módulos utilizados.\n",
    "* El descuento por día de atraso será de $30$ puntos, con un máximo de 1 día de atraso. No se recibirán entregas después de este día.\n",
    "* El trabajo es personal, no se permite compartir código, aunque sí se sugiere discutir aspectos generales con sus compañeros. En caso de sospecha de copia, se citará a los involucrados a defender sus conocimientos de manera presencial, evaluación cuya nota reemplazará la obtenida en la tarea.\n",
    "* El no seguir estas instrucciones, implica descuentos en su nota obtenida."
   ]
  },
  {
   "cell_type": "code",
   "execution_count": null,
   "metadata": {
    "collapsed": true,
    "deletable": true,
    "editable": true
   },
   "outputs": [],
   "source": []
  }
 ],
 "metadata": {
  "anaconda-cloud": {},
  "kernelspec": {
   "display_name": "Python 3",
   "language": "python",
   "name": "python3"
  },
  "language_info": {
   "codemirror_mode": {
    "name": "ipython",
    "version": 3
   },
   "file_extension": ".py",
   "mimetype": "text/x-python",
   "name": "python",
   "nbconvert_exporter": "python",
   "pygments_lexer": "ipython3",
   "version": "3.6.0"
  },
  "widgets": {
   "state": {
    "81d6d7b7d2e141e4956ff0f4caf90582": {
     "views": [
      {
       "cell_index": 7
      }
     ]
    }
   },
   "version": "1.2.0"
  }
 },
 "nbformat": 4,
 "nbformat_minor": 1
}
