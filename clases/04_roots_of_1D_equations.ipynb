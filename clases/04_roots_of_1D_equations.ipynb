{
 "cells": [
  {
   "cell_type": "markdown",
   "metadata": {
    "deletable": true,
    "editable": true,
    "nbpresent": {
     "id": "de7417b4-3b4b-44c6-b72c-242cf788c74d"
    },
    "slideshow": {
     "slide_type": "slide"
    }
   },
   "source": [
    "<center>\n",
    "    <h1> ILI285 - Computación Científica I  / INF285 - Computación Científica </h1>\n",
    "    <h2> Roots of 1D equations </h2>\n",
    "    <h2> [[S]cientific [C]omputing [T]eam](#acknowledgements)</h2>\n",
    "    <h2> Version: 1.1</h2>\n",
    "</center>"
   ]
  },
  {
   "cell_type": "markdown",
   "metadata": {
    "deletable": true,
    "editable": true,
    "nbpresent": {
     "id": "0bf960ac-5485-453f-a7fa-b127626d0722"
    },
    "slideshow": {
     "slide_type": "subslide"
    }
   },
   "source": [
    "## Table of Contents\n",
    "* [Introduction](#intro)\n",
    "* [Bisection Method](#bisection)\n",
    "* [Cobweb Plot](#cobweb)\n",
    "* [Fixed Point Iteration](#fpi)\n",
    "* [Newton Method](#nm)\n",
    "* [Acknowledgements](#acknowledgements)"
   ]
  },
  {
   "cell_type": "code",
   "execution_count": 1,
   "metadata": {
    "collapsed": true,
    "deletable": true,
    "editable": true,
    "nbpresent": {
     "id": "933f781f-471c-4576-bc44-cacb85f3d74e"
    }
   },
   "outputs": [],
   "source": [
    "import numpy as np\n",
    "import matplotlib.pyplot as plt\n",
    "import sympy as sp\n",
    "%matplotlib inline"
   ]
  },
  {
   "cell_type": "markdown",
   "metadata": {
    "deletable": true,
    "editable": true,
    "nbpresent": {
     "id": "b67d6f1e-9141-4fdb-a380-7143377bb257"
    }
   },
   "source": [
    "<div id='intro' />\n",
    "## Introduction\n",
    "\n",
    "Hello again! In this document we're going to learn how to find a 1D equation's solution using numerical methods. First, let's start with the definition of a root:\n",
    "\n",
    "The function $f(x)$ has a <b>root</b> in $x = r$ if $f(r) = 0$. An example: Let's say we want to solve the equation $x + \\log(x) = 3$. We can rearrange the equation: $x + \\log(x) - 3 = 0$. That way, to find its solution we can find the root of $f(x) = x + \\log(x) - 3$. Now let's study some numerical methods to solve these kinds of problems. "
   ]
  },
  {
   "cell_type": "markdown",
   "metadata": {
    "deletable": true,
    "editable": true,
    "nbpresent": {
     "id": "6ad27f67-ce50-4034-8ad6-87fc8e891710"
    }
   },
   "source": [
    "Defining a function $f(x)$"
   ]
  },
  {
   "cell_type": "code",
   "execution_count": 2,
   "metadata": {
    "collapsed": true,
    "deletable": true,
    "editable": true,
    "nbpresent": {
     "id": "303a1805-24d2-40c6-85f9-d0d40f2092e1"
    }
   },
   "outputs": [],
   "source": [
    "f= lambda x: x**3+x-1"
   ]
  },
  {
   "cell_type": "markdown",
   "metadata": {
    "deletable": true,
    "editable": true,
    "nbpresent": {
     "id": "1fbf0be0-90c4-413c-983f-e4d6ea6f76bc"
    }
   },
   "source": [
    "Finding $r$ using sympy"
   ]
  },
  {
   "cell_type": "code",
   "execution_count": 3,
   "metadata": {
    "collapsed": false,
    "deletable": true,
    "editable": true,
    "nbpresent": {
     "id": "e91bbbf7-6c90-4f31-ae8c-55555844daa8"
    }
   },
   "outputs": [
    {
     "name": "stdout",
     "output_type": "stream",
     "text": [
      "0.682327803828019\n",
      "[(-1/2 - sqrt(3)*I/2)*(1/2 + sqrt(93)/18)**(1/3) - 1/(3*(-1/2 - sqrt(3)*I/2)*(1/2 + sqrt(93)/18)**(1/3)), -1/(3*(-1/2 + sqrt(3)*I/2)*(1/2 + sqrt(93)/18)**(1/3)) + (-1/2 + sqrt(3)*I/2)*(1/2 + sqrt(93)/18)**(1/3), -1/(3*(1/2 + sqrt(93)/18)**(1/3)) + (1/2 + sqrt(93)/18)**(1/3)]\n"
     ]
    }
   ],
   "source": [
    "x = sp.Symbol('x')\n",
    "r_all=sp.solve(sp.Eq(f(x), 0), x)\n",
    "r=r_all[2].evalf()\n",
    "print(r)\n",
    "print(r_all)"
   ]
  },
  {
   "cell_type": "code",
   "execution_count": 4,
   "metadata": {
    "collapsed": false,
    "deletable": true,
    "editable": true,
    "nbpresent": {
     "id": "1e499efa-b348-449b-95da-6ae6f7d8bc13"
    },
    "scrolled": false
   },
   "outputs": [
    {
     "data": {
      "image/png": "[encoded data removed]",
      "text/plain": [
       "<matplotlib.figure.Figure at 0x10509d0b8>"
      ]
     },
     "metadata": {},
     "output_type": "display_data"
    }
   ],
   "source": [
    "x = np.linspace(-1,1,1000)\n",
    "plt.figure(figsize=(8,8))\n",
    "plt.plot(x,f(x),'b-')\n",
    "plt.grid()\n",
    "plt.ylabel('$f(x)$',fontsize=16)\n",
    "plt.xlabel('$x$',fontsize=16)\n",
    "plt.title('What is r such that $f(r)=0$? $r='+str(r)+'$',fontsize=16)\n",
    "plt.plot(r,0,'k.',markersize=10)\n",
    "plt.show()"
   ]
  },
  {
   "cell_type": "markdown",
   "metadata": {
    "deletable": true,
    "editable": true,
    "nbpresent": {
     "id": "0205cfe4-30cb-4064-a6bb-d6bb7ba0c4e4"
    }
   },
   "source": [
    "<div id='bisection' />\n",
    "## Bisection Method"
   ]
  },
  {
   "cell_type": "markdown",
   "metadata": {
    "deletable": true,
    "editable": true,
    "nbpresent": {
     "id": "876cd550-d494-49e9-8009-7c7ff260fadf"
    }
   },
   "source": [
    "The bisection method finds the root of a function $f$, where $f$ is a **continuous** function.\n",
    "If we want to know if this has a root, we have to check if there is an interval $[a,b]$ for which \n",
    "$f(a)\\cdot f(b) < 0$. When these 2 conditions are satisfied, it means that there is a value $r$, between $a$ and $b$, for which $f(r) = 0$. To summarize how this method works, start with the aforementioned interval (checking that there's a root in it), and split it into two smaller intervals $[a,c]$ and $[c,b]$. Then, check which of the two intervals contains a root. Keep splitting each \"eligible\" interval until the algorithm converges or the tolerance is surpassed."
   ]
  },
  {
   "cell_type": "code",
   "execution_count": 5,
   "metadata": {
    "collapsed": false,
    "deletable": true,
    "editable": true,
    "nbpresent": {
     "id": "1261a3bc-1a85-41f6-834e-5882848b6265"
    }
   },
   "outputs": [],
   "source": [
    "def bisect(f, a, b, tol=10e-8):\n",
    "    fa = f(a)\n",
    "    fb = f(b)\n",
    "    i = 0\n",
    "    \n",
    "    if np.sign(f(a)*f(b)) >= 0:\n",
    "        print('f(a)f(b)<0 not satisfied!')\n",
    "        return None\n",
    "    \n",
    "    print(' i |     a     |     c     |     b     |     fa    |     fc     |     fb     |   b-a')\n",
    "    print('----------------------------------------------------------------------------------------')\n",
    "    \n",
    "    while(b-a)/2 > tol:\n",
    "        c = (a+b)/2.\n",
    "        fc = f(c)\n",
    "        #Print some info\n",
    "        print('%2d | %.7f | %.7f | %.7f | %.7f | %.7f | %.7f | %.7f' %\n",
    "              (i+1, a, c, b, fa, fc, fb, b-a))\n",
    "        \n",
    "        if fc == 0:\n",
    "            print('f(c)==0')\n",
    "            break\n",
    "        elif np.sign(fa*fc) < 0:\n",
    "            b = c\n",
    "            fb = fc\n",
    "        else:\n",
    "            a = c\n",
    "            fa = fc\n",
    "        i += 1\n",
    "        \n",
    "    xc = (a+b)/2.\n",
    "    return xc"
   ]
  },
  {
   "cell_type": "code",
   "execution_count": 6,
   "metadata": {
    "collapsed": false,
    "deletable": true,
    "editable": true,
    "nbpresent": {
     "id": "95c67a15-aecf-40cb-b9bc-b1145767fb97"
    }
   },
   "outputs": [
    {
     "name": "stdout",
     "output_type": "stream",
     "text": [
      " i |     a     |     c     |     b     |     fa    |     fc     |     fb     |   b-a\n",
      "----------------------------------------------------------------------------------------\n",
      " 1 | 0.5000000 | 1.2500000 | 2.0000000 | 0.8775826 | 0.3153224 | -0.4161468 | 1.5000000\n",
      " 2 | 1.2500000 | 1.6250000 | 2.0000000 | 0.3153224 | -0.0541771 | -0.4161468 | 0.7500000\n",
      " 3 | 1.2500000 | 1.4375000 | 1.6250000 | 0.3153224 | 0.1329019 | -0.0541771 | 0.3750000\n",
      " 4 | 1.4375000 | 1.5312500 | 1.6250000 | 0.1329019 | 0.0395360 | -0.0541771 | 0.1875000\n",
      " 5 | 1.5312500 | 1.5781250 | 1.6250000 | 0.0395360 | -0.0073286 | -0.0541771 | 0.0937500\n",
      " 6 | 1.5312500 | 1.5546875 | 1.5781250 | 0.0395360 | 0.0161081 | -0.0073286 | 0.0468750\n",
      " 7 | 1.5546875 | 1.5664062 | 1.5781250 | 0.0161081 | 0.0043901 | -0.0073286 | 0.0234375\n",
      " 8 | 1.5664062 | 1.5722656 | 1.5781250 | 0.0043901 | -0.0014693 | -0.0073286 | 0.0117188\n",
      " 9 | 1.5664062 | 1.5693359 | 1.5722656 | 0.0043901 | 0.0014604 | -0.0014693 | 0.0058594\n",
      "10 | 1.5693359 | 1.5708008 | 1.5722656 | 0.0014604 | -0.0000045 | -0.0014693 | 0.0029297\n",
      "11 | 1.5693359 | 1.5700684 | 1.5708008 | 0.0014604 | 0.0007280 | -0.0000045 | 0.0014648\n",
      "12 | 1.5700684 | 1.5704346 | 1.5708008 | 0.0007280 | 0.0003618 | -0.0000045 | 0.0007324\n",
      "13 | 1.5704346 | 1.5706177 | 1.5708008 | 0.0003618 | 0.0001787 | -0.0000045 | 0.0003662\n",
      "14 | 1.5706177 | 1.5707092 | 1.5708008 | 0.0001787 | 0.0000871 | -0.0000045 | 0.0001831\n",
      "15 | 1.5707092 | 1.5707550 | 1.5708008 | 0.0000871 | 0.0000413 | -0.0000045 | 0.0000916\n",
      "16 | 1.5707550 | 1.5707779 | 1.5708008 | 0.0000413 | 0.0000184 | -0.0000045 | 0.0000458\n",
      "17 | 1.5707779 | 1.5707893 | 1.5708008 | 0.0000184 | 0.0000070 | -0.0000045 | 0.0000229\n",
      "18 | 1.5707893 | 1.5707951 | 1.5708008 | 0.0000070 | 0.0000013 | -0.0000045 | 0.0000114\n",
      "19 | 1.5707951 | 1.5707979 | 1.5708008 | 0.0000013 | -0.0000016 | -0.0000045 | 0.0000057\n",
      "20 | 1.5707951 | 1.5707965 | 1.5707979 | 0.0000013 | -0.0000002 | -0.0000016 | 0.0000029\n",
      "21 | 1.5707951 | 1.5707958 | 1.5707965 | 0.0000013 | 0.0000006 | -0.0000002 | 0.0000014\n",
      "22 | 1.5707958 | 1.5707961 | 1.5707965 | 0.0000006 | 0.0000002 | -0.0000002 | 0.0000007\n",
      "23 | 1.5707961 | 1.5707963 | 1.5707965 | 0.0000002 | 0.0000000 | -0.0000002 | 0.0000004\n"
     ]
    },
    {
     "data": {
      "text/plain": [
       "1.570796400308609"
      ]
     },
     "execution_count": 6,
     "metadata": {},
     "output_type": "execute_result"
    }
   ],
   "source": [
    "f = lambda x: np.cos(x)\n",
    "bisect(f, 0.5, 2.)"
   ]
  },
  {
   "cell_type": "markdown",
   "metadata": {
    "deletable": true,
    "editable": true,
    "nbpresent": {
     "id": "8f1dcc0b-4e83-4eb0-9020-30ea3107c233"
    }
   },
   "source": [
    "It's very important to define a concept called **convergence rate**. \n",
    "This rate shows how fast the convergence of a method is at a specified point.\n",
    "\n",
    "The convergence rate for the bisection is always 0.5 because this method uses the half of the interval for each iteration."
   ]
  },
  {
   "cell_type": "markdown",
   "metadata": {
    "deletable": true,
    "editable": true,
    "nbpresent": {
     "id": "922fabb4-427a-437f-a954-0f80955d4487"
    }
   },
   "source": [
    "<div id='cobweb' />\n",
    "## Cobweb Plot"
   ]
  },
  {
   "cell_type": "code",
   "execution_count": 7,
   "metadata": {
    "collapsed": false,
    "deletable": true,
    "editable": true,
    "nbpresent": {
     "id": "8985be0d-1596-4e5b-aaed-88f1e947cb8e"
    }
   },
   "outputs": [],
   "source": [
    "def cobweb(x,g=None):\n",
    "    min_x = np.amin(x)\n",
    "    max_x = np.amax(x)\n",
    "    \n",
    "    plt.figure(figsize=(10,10))\n",
    "    ax = plt.axes()\n",
    "    plt.plot(np.array([min_x,max_x]),np.array([min_x,max_x]),'b-')\n",
    "    for i in np.arange(x.size-1):\n",
    "        delta_x = x[i+1]-x[i]\n",
    "        head_length =  np.abs(delta_x)*0.04\n",
    "        arrow_length = delta_x-np.sign(delta_x)*head_length\n",
    "        ax.arrow(x[i], x[i], 0, arrow_length, head_width=1.5*head_length, head_length=head_length, fc='k', ec='k')\n",
    "        ax.arrow(x[i], x[i+1], arrow_length, 0, head_width=1.5*head_length, head_length=head_length, fc='k', ec='k')\n",
    "    \n",
    "    if g!=None:\n",
    "        y = np.linspace(min_x,max_x,1000)\n",
    "        plt.plot(y,g(y),'r')\n",
    "    \n",
    "    plt.title('Cobweb diagram')\n",
    "    plt.grid(True)\n",
    "    plt.show()"
   ]
  },
  {
   "cell_type": "markdown",
   "metadata": {
    "deletable": true,
    "editable": true,
    "nbpresent": {
     "id": "55bcc6fb-d884-4d44-b569-078ce0ad1459"
    }
   },
   "source": [
    "<div id='fpi' />\n",
    "## Fixed Point Iteration"
   ]
  },
  {
   "cell_type": "markdown",
   "metadata": {
    "deletable": true,
    "editable": true,
    "nbpresent": {
     "id": "ef495f98-a04f-404f-8e91-460af809e7bd"
    }
   },
   "source": [
    "To learn about Fixed-Point Iteration we will first learn about the concept of Fixed Point.\n",
    "\n",
    "A Fixed Point of a function $g$ is a real number $r$, where $g(r) = r$\n",
    "\n",
    "The Fixed-Point Iteration is based in the Fixed Point concept and works like this to find the root of a function:\n",
    "\n",
    "\\begin{equation} x_{0} = initial\\_guess \\\\ x_{i+1} = g(x_{i})\\end{equation}\n",
    "\n",
    "To find an equation's solution using this method you'll have to move around some things to rearrange the equation in the form $x = g(x)$. That way, you'll be iterating over the funcion $g(x)$, but you will **not** find $g$'s root, but $f(x) = g(x) - x$ (or $f(x) = x - g(x)$)'s root. In our following example, we'll find the solution to $f(x) = x - \\cos(x)$ by iterating over the funcion $g(x) = \\cos(x)$.\n",
    "\n"
   ]
  },
  {
   "cell_type": "code",
   "execution_count": 8,
   "metadata": {
    "collapsed": false,
    "deletable": true,
    "editable": true,
    "nbpresent": {
     "id": "1cd6c7c7-0b0d-4537-8361-c712ccec3478"
    }
   },
   "outputs": [],
   "source": [
    "def fpi(g, x0, k, flag_cobweb=False):\n",
    "    x = np.empty(k+1)\n",
    "    x[0] = x0\n",
    "    error_i = np.inf\n",
    "\n",
    "    print(' i |     x(i)     |    x(i+1)    ||x(i+1)-x(i)| | e_i/e_{i-1}')\n",
    "    print('--------------------------------------------------------------')\n",
    "\n",
    "    for i in range(k):\n",
    "        x[i+1] = g(x[i])\n",
    "        error_iminus1 = error_i\n",
    "        error_i = abs(x[i+1]-x[i])\n",
    "        print('%2d | %.10f | %.10f | %.10f | %.10f' %\n",
    "              (i,x[i],x[i+1],error_i,error_i/error_iminus1))\n",
    "    if flag_cobweb:\n",
    "        cobweb(x,g)\n",
    "    return x[-1]"
   ]
  },
  {
   "cell_type": "code",
   "execution_count": 9,
   "metadata": {
    "collapsed": false,
    "deletable": true,
    "editable": true,
    "nbpresent": {
     "id": "a3a27d8e-4cec-407f-8aa4-5301d152d7a2"
    },
    "scrolled": false
   },
   "outputs": [
    {
     "name": "stdout",
     "output_type": "stream",
     "text": [
      " i |     x(i)     |    x(i+1)    ||x(i+1)-x(i)| | e_i/e_{i-1}\n",
      "--------------------------------------------------------------\n",
      " 0 | 1.0000000000 | 1.2817181715 | 0.2817181715 | 0.0000000000\n",
      " 1 | 1.2817181715 | 1.5240480047 | 0.2423298331 | 0.8601853115\n",
      " 2 | 1.5240480047 | 1.5054209230 | 0.0186270817 | 0.0768666469\n",
      " 3 | 1.5054209230 | 1.5156337608 | 0.0102128378 | 0.5482790052\n",
      " 4 | 1.5156337608 | 1.5102297577 | 0.0054040031 | 0.5291382418\n",
      " 5 | 1.5102297577 | 1.5131480657 | 0.0029183080 | 0.5400270767\n",
      " 6 | 1.5131480657 | 1.5115885683 | 0.0015594974 | 0.5343841118\n",
      " 7 | 1.5115885683 | 1.5124267431 | 0.0008381748 | 0.5374646927\n",
      " 8 | 1.5124267431 | 1.5119776254 | 0.0004491177 | 0.5358281730\n",
      " 9 | 1.5119776254 | 1.5122186716 | 0.0002410462 | 0.5367105123\n"
     ]
    },
    {
     "data": {
      "image/png": "[encoded data removed]",
      "text/plain": [
       "<matplotlib.figure.Figure at 0x1050c9da0>"
      ]
     },
     "metadata": {},
     "output_type": "display_data"
    },
    {
     "data": {
      "text/plain": [
       "1.5122186716061234"
      ]
     },
     "execution_count": 9,
     "metadata": {},
     "output_type": "execute_result"
    }
   ],
   "source": [
    "g = lambda x: 4 * x - np.exp(x)\n",
    "fpi(g, 1, 10, True)"
   ]
  },
  {
   "cell_type": "markdown",
   "metadata": {
    "deletable": true,
    "editable": true,
    "nbpresent": {
     "id": "f3e3319f-ad4b-4c0b-89e7-7bd915c819ac"
    }
   },
   "source": [
    "Let's quickly explain the Cobweb Diagram we have here. The <font color=\"blue\">blue</font> line is the function $x$ and the <font color=\"red\">red</font> is the function $g(x)$. The point in which they meet is $g$'s fixed point. In this particular example, we start at <font color=\"blue\">$y = x = 1.5$</font> (the top right corner) and then we \"jump\" **vertically** to <font color=\"red\">$y = \\cos(1.5) \\approx 0.07$</font>. After this, we jump **horizontally** to <font color=\"blue\">$x = \\cos(1.5) \\approx 0.07$</font>. Then, we jump again **vertically** to <font color=\"red\">$y = \\cos\\left(\\cos(1.5)\\right) \\approx 0.997$</font> and so on. See the pattern here? We're just iterating over $x = \\cos(x)$, getting closer to the center of the diagram where the fixed point resides, in $x \\approx 0.739$."
   ]
  },
  {
   "cell_type": "markdown",
   "metadata": {
    "deletable": true,
    "editable": true,
    "nbpresent": {
     "id": "39bab94c-eca7-4f81-b21d-c47784e1820d"
    }
   },
   "source": [
    "It's very important to mention that the algorithm will converge only if the rate of convergence $S < 1$, where $S = \\left| g'(r) \\right|$. If you want to use this method, you'll have to construct $g(x)$ starting from $f(x)$ accordingly. In this example, $g(x) = \\cos(x) \\Rightarrow g'(x) = -\\sin(x)$ and $|-\\sin(0.739)| \\approx 0.67$."
   ]
  },
  {
   "cell_type": "markdown",
   "metadata": {
    "deletable": true,
    "editable": true,
    "nbpresent": {
     "id": "206edc54-dc0d-4831-a4c1-de99c755ca83"
    }
   },
   "source": [
    "<div id='nm' />\n",
    "## Newton's Method\n",
    "\n",
    "For this method, we want to iteratively find some function $f(x)$'s root, that is, the number $r$ for which $f(r) = 0$. The algorithm is as follows:\n",
    "\n",
    "\\begin{equation} x_0 = initial\\_guess \\end{equation}\n",
    "\\begin{equation} x_{i+1} = x_i - \\cfrac{f(x_i)}{f'(x_i)} \\end{equation}\n",
    "\n",
    "which means that you won't be able to find $f$'s root if $f'(r) = 0$. In this case, you would have to use the modified version of this method, but for now let's focus on the unmodified version first. Newton's (unmodified) method is said to have quadratic convergence."
   ]
  },
  {
   "cell_type": "code",
   "execution_count": 49,
   "metadata": {
    "collapsed": true,
    "deletable": true,
    "editable": true,
    "nbpresent": {
     "id": "9aa7ed8c-a5f0-4474-a1f9-3faed0af85ba"
    }
   },
   "outputs": [],
   "source": [
    "def newton_method(f, fp, x0, rel_error=1e-8, m=1):\n",
    "    #Initialization of hybrid error and absolute\n",
    "    hybrid_error = 100\n",
    "    error_i = np.inf\n",
    "    \n",
    "    #print('i |     x(i)     |     x(i+1)   |      |x(i+1)-x(i)|     |  e_i/e_{i-1} | e_i/e_{i-1}^2')\n",
    "    #print('----------------------------------------------------------------------------------------')\n",
    "    \n",
    "    #Iteration counter\n",
    "    i = 1\n",
    "    while (hybrid_error > rel_error and hybrid_error < 1e12 and i < 1e4):\n",
    "        #Newton's iteration\n",
    "        x1 = x0-m*f(x0)/fp(x0)\n",
    "        \n",
    "        #Checking if root was found\n",
    "        if f(x1) == 0.0:\n",
    "            hybrid_error = 0.0\n",
    "            break\n",
    "        \n",
    "        #Computation of hybrid error\n",
    "        hybrid_error = abs(x1-x0)/np.max([abs(x1),1e-12])\n",
    "        \n",
    "        #Computation of absolute error\n",
    "        error_iminus1 = error_i\n",
    "        error_i = abs(x1-x0)\n",
    "        \n",
    "        #Increasing counter\n",
    "        i += 1\n",
    "        \n",
    "        #Showing some info\n",
    "        #print(\"%d | %.10f | %.10f | %.20f | %.10f | %.10f\" % \n",
    "        #      (i, x0, x1, error_i, error_i/error_iminus1, error_i/(error_iminus1**2)))\n",
    "        #Updating solution\n",
    "        x0 = x1\n",
    "    \n",
    "    #Checking if solution was obtained\n",
    "    if hybrid_error < rel_error: \n",
    "        return x1\n",
    "    elif i>=1e4:\n",
    "        print('Newton''s Method diverged. Too many iterations!!')\n",
    "        return None\n",
    "    else:\n",
    "        print('Newton''s Method diverged!')\n",
    "        return None"
   ]
  },
  {
   "cell_type": "code",
   "execution_count": 11,
   "metadata": {
    "collapsed": false,
    "deletable": true,
    "editable": true,
    "nbpresent": {
     "id": "cd221273-2a77-491b-ba4c-7dce1842b806"
    }
   },
   "outputs": [
    {
     "name": "stdout",
     "output_type": "stream",
     "text": [
      "i |     x(i)     |     x(i+1)   |      |x(i+1)-x(i)|     |  e_i/e_{i-1} | e_i/e_{i-1}^2\n",
      "----------------------------------------------------------------------------------------\n",
      "2 | 3.1000000000 | 3.1416166546 | 0.04161665458563579278 | 0.0000000000 | 0.0000000000\n",
      "3 | 3.1416166546 | 3.1415926536 | 0.00002400099584720650 | 0.0005767161 | 0.0138578204\n",
      "4 | 3.1415926536 | 3.1415926536 | 0.00000000000000444089 | 0.0000000002 | 0.0000077092\n"
     ]
    },
    {
     "data": {
      "text/plain": [
       "3.1415926535897931"
      ]
     },
     "execution_count": 11,
     "metadata": {},
     "output_type": "execute_result"
    }
   ],
   "source": [
    "f = lambda x: np.sin(x)\n",
    "fp = lambda x: np.cos(x) # derivative of f\n",
    "newton_method(f, fp, 3.1)"
   ]
  },
  {
   "cell_type": "markdown",
   "metadata": {
    "collapsed": true,
    "deletable": true,
    "editable": true
   },
   "source": [
    "# In class"
   ]
  },
  {
   "cell_type": "markdown",
   "metadata": {
    "deletable": true,
    "editable": true
   },
   "source": [
    "Adding another implementation of FPI including and extra column for analyzing quadratic convergence"
   ]
  },
  {
   "cell_type": "code",
   "execution_count": 12,
   "metadata": {
    "collapsed": true,
    "deletable": true,
    "editable": true
   },
   "outputs": [],
   "source": [
    "def fpi2(g, x0, k, flag_cobweb=False):\n",
    "    x = np.empty(k+1)\n",
    "    x[0] = x0\n",
    "    error_i = np.inf\n",
    "    \n",
    "    print(' i |     x(i)     |    x(i+1)    ||x(i+1)-x(i)| | e_i/e_{i-1} | e_i/e_{i-1}^2')\n",
    "    print('-----------------------------------------------------------------------------')\n",
    "    \n",
    "    for i in range(k):\n",
    "        x[i+1] = g(x[i])\n",
    "        error_iminus1 = error_i\n",
    "        error_i = abs(x[i+1]-x[i])\n",
    "        print('%2d | %.10f | %.10f | %.10f | %.10f | %.10f' %\n",
    "              (i,x[i],x[i+1],error_i,error_i/error_iminus1,error_i/(error_iminus1**2)))\n",
    "    if flag_cobweb:\n",
    "        cobweb(x,g)\n",
    "    return x[-1]"
   ]
  },
  {
   "cell_type": "code",
   "execution_count": 13,
   "metadata": {
    "collapsed": false,
    "deletable": true,
    "editable": true
   },
   "outputs": [
    {
     "name": "stdout",
     "output_type": "stream",
     "text": [
      " i |     x(i)     |    x(i+1)    ||x(i+1)-x(i)| | e_i/e_{i-1} | e_i/e_{i-1}^2\n",
      "-----------------------------------------------------------------------------\n",
      " 0 | 1.0000000000 | 1.2817181715 | 0.2817181715 | 0.0000000000 | 0.0000000000\n",
      " 1 | 1.2817181715 | 1.5240480047 | 0.2423298331 | 0.8601853115 | 3.0533540198\n",
      " 2 | 1.5240480047 | 1.5054209230 | 0.0186270817 | 0.0768666469 | 0.3171984478\n",
      " 3 | 1.5054209230 | 1.5156337608 | 0.0102128378 | 0.5482790052 | 29.4345090258\n",
      " 4 | 1.5156337608 | 1.5102297577 | 0.0054040031 | 0.5291382418 | 51.8110881802\n",
      " 5 | 1.5102297577 | 1.5131480657 | 0.0029183080 | 0.5400270767 | 99.9309347199\n",
      " 6 | 1.5131480657 | 1.5115885683 | 0.0015594974 | 0.5343841118 | 183.1143651177\n",
      " 7 | 1.5115885683 | 1.5124267431 | 0.0008381748 | 0.5374646927 | 344.6396818195\n",
      " 8 | 1.5124267431 | 1.5119776254 | 0.0004491177 | 0.5358281730 | 639.2797466832\n",
      " 9 | 1.5119776254 | 1.5122186716 | 0.0002410462 | 0.5367105123 | 1195.0331659051\n"
     ]
    },
    {
     "data": {
      "image/png": "[encoded data removed]",
      "text/plain": [
       "<matplotlib.figure.Figure at 0x105423e48>"
      ]
     },
     "metadata": {},
     "output_type": "display_data"
    },
    {
     "data": {
      "text/plain": [
       "1.5122186716061234"
      ]
     },
     "execution_count": 13,
     "metadata": {},
     "output_type": "execute_result"
    }
   ],
   "source": [
    "g1 = lambda x: (4./5.)*x+1./x\n",
    "g2 = lambda x: x/2.+5./(2*x)\n",
    "#g3 = lambda x: (x+5.)/(x+1)\n",
    "g3 = lambda x: 4 * x - np.exp(x)\n",
    "fpi2(g3, 1, 10, True)"
   ]
  },
  {
   "cell_type": "markdown",
   "metadata": {
    "deletable": true,
    "editable": true
   },
   "source": [
    "# Classwork\n",
    "Build a FPI such that given $x$ computes $\\displaystyle \\frac{1}{x}$. Write down your solution below or go and see the [solution](#sol1)"
   ]
  },
  {
   "cell_type": "code",
   "execution_count": 14,
   "metadata": {
    "collapsed": false,
    "deletable": true,
    "editable": true
   },
   "outputs": [
    {
     "name": "stdout",
     "output_type": "stream",
     "text": [
      "Please try to think and solve before you see the solution!!!\n"
     ]
    }
   ],
   "source": [
    "print('Please try to think and solve before you see the solution!!!')"
   ]
  },
  {
   "cell_type": "markdown",
   "metadata": {
    "deletable": true,
    "editable": true
   },
   "source": [
    "## Playing with some roots"
   ]
  },
  {
   "cell_type": "code",
   "execution_count": 15,
   "metadata": {
    "collapsed": false,
    "deletable": true,
    "editable": true
   },
   "outputs": [
    {
     "data": {
      "image/png": "[encoded data removed]",
      "text/plain": [
       "<matplotlib.figure.Figure at 0x1050db400>"
      ]
     },
     "metadata": {},
     "output_type": "display_data"
    }
   ],
   "source": [
    "f = lambda x: 8*x**4-12*x**3+6*x**2-x\n",
    "fp = lambda x: 32*x**3-36*x**2+12*x-1\n",
    "\n",
    "x = np.linspace(-1,1,1000)\n",
    "plt.figure(figsize=(5,5))\n",
    "plt.plot(x,f(x),'b-')\n",
    "plt.grid()\n",
    "plt.ylabel('$f(x)$',fontsize=16)\n",
    "plt.xlabel('$x$',fontsize=16)\n",
    "plt.show()"
   ]
  },
  {
   "cell_type": "code",
   "execution_count": 16,
   "metadata": {
    "collapsed": false,
    "deletable": true,
    "editable": true
   },
   "outputs": [
    {
     "name": "stdout",
     "output_type": "stream",
     "text": [
      "i |     x(i)     |     x(i+1)   |      |x(i+1)-x(i)|     |  e_i/e_{i-1} | e_i/e_{i-1}^2\n",
      "----------------------------------------------------------------------------------------\n",
      "2 | 0.2500000000 | 0.3750000000 | 0.12500000000000000000 | 0.0000000000 | 0.0000000000\n",
      "3 | 0.3750000000 | 0.4218750000 | 0.04687500000000000000 | 0.3750000000 | 3.0000000000\n",
      "4 | 0.4218750000 | 0.4496299342 | 0.02775493421052632748 | 0.5921052632 | 12.6315789474\n",
      "5 | 0.4496299342 | 0.4670712474 | 0.01744131315415192729 | 0.6284040532 | 22.6411652945\n",
      "6 | 0.4670712474 | 0.4783116495 | 0.01124040217207916692 | 0.6444699475 | 36.9507698052\n",
      "7 | 0.4783116495 | 0.4856520463 | 0.00734039671451031106 | 0.6530368400 | 58.0972842411\n",
      "8 | 0.4856520463 | 0.4904822650 | 0.00483021874546457619 | 0.6580323834 | 89.6453433017\n",
      "9 | 0.4904822650 | 0.4936754981 | 0.00319323307101593290 | 0.6610949192 | 136.8664555352\n",
      "10 | 0.4936754981 | 0.4957927066 | 0.00211720853279756538 | 0.6630297525 | 207.6358780488\n",
      "11 | 0.4957927066 | 0.4971991160 | 0.00140640939388952946 | 0.6642753286 | 313.7505438570\n",
      "12 | 0.4971991160 | 0.4981345004 | 0.00093538444513735497 | 0.6650868867 | 472.8970735972\n",
      "13 | 0.4981345004 | 0.4987571108 | 0.00062261040674899126 | 0.6656197994 | 711.6002440238\n",
      "14 | 0.4987571108 | 0.4991717517 | 0.00041464081620201654 | 0.6659715477 | 1069.6440992464\n",
      "15 | 0.4991717517 | 0.4994479872 | 0.00027623558383460534 | 0.6662045149 | 1606.7026904106\n",
      "16 | 0.4994479872 | 0.4996320593 | 0.00018407207466503150 | 0.6663590263 | 2412.2852567341\n",
      "17 | 0.4996320593 | 0.4997547363 | 0.00012267694199175061 | 0.6664614511 | 3620.6548567014\n",
      "18 | 0.4997547363 | 0.4998365043 | 0.00008176800343717705 | 0.6665311517 | 5433.2227467859\n",
      "19 | 0.4998365043 | 0.4998910093 | 0.00005450501498283078 | 0.6665812138 | 8152.1033387176\n",
      "20 | 0.4998910093 | 0.4999273416 | 0.00003633229504979019 | 0.6665862776 | 12229.8155104438\n",
      "21 | 0.4999273416 | 0.4999515623 | 0.00002422068296142887 | 0.6666433521 | 18348.5065059904\n",
      "22 | 0.4999515623 | 0.4999677102 | 0.00001614798092541836 | 0.6667021302 | 27526.1490878388\n",
      "23 | 0.4999677102 | 0.4999784881 | 0.00001077790240527898 | 0.6674458222 | 41333.0821519170\n",
      "24 | 0.4999784881 | 0.4999856260 | 0.00000713783009964608 | 0.6622652378 | 61446.5795771962\n",
      "25 | 0.4999856260 | 0.4999904175 | 0.00000479151277105183 | 0.6712842284 | 94045.9802280509\n",
      "26 | 0.4999904175 | 0.4999936921 | 0.00000327464893745688 | 0.6834269455 | 142632.8130922673\n",
      "27 | 0.4999936921 | 0.4999959011 | 0.00000220899409386632 | 0.6745743242 | 205998.9748672154\n",
      "28 | 0.4999959011 | 0.4999972779 | 0.00000137672476080430 | 0.6232360533 | 282135.6811326461\n"
     ]
    },
    {
     "data": {
      "text/plain": [
       "0.4999997749567999"
      ]
     },
     "execution_count": 16,
     "metadata": {},
     "output_type": "execute_result"
    }
   ],
   "source": [
    "newton_method(f, fp, 0.25, rel_error=1e-8, m=1)"
   ]
  },
  {
   "cell_type": "markdown",
   "metadata": {
    "collapsed": true,
    "deletable": true,
    "editable": true
   },
   "source": [
    "<div id='acknowledgements' />\n",
    "# Acknowledgements\n",
    "* _Material created by professor Claudio Torres_ (`ctorres@inf.utfsm.cl`) _and assistants: Laura Bermeo, Alvaro Salinas, Axel Simonsen and Martín Villanueva. DI UTFSM. March 2016._"
   ]
  },
  {
   "cell_type": "markdown",
   "metadata": {
    "collapsed": true,
    "deletable": true,
    "editable": true
   },
   "source": [
    "# Solutions"
   ]
  },
  {
   "cell_type": "markdown",
   "metadata": {
    "deletable": true,
    "editable": true
   },
   "source": [
    "<div id='acknowledgements' />\n",
    "Problem: Build a FPI such that given $x$ computes $\\displaystyle \\frac{1}{x}$"
   ]
  },
  {
   "cell_type": "code",
   "execution_count": 17,
   "metadata": {
    "collapsed": false,
    "deletable": true,
    "editable": true
   },
   "outputs": [],
   "source": [
    "# Solution code:\n",
    "#a = 2\n",
    "#g = lambda x: 2*x-a*x**2\n",
    "#fpi2(g, 0.7, 6, flag_cobweb=True)"
   ]
  },
  {
   "cell_type": "code",
   "execution_count": 18,
   "metadata": {
    "collapsed": false,
    "deletable": true,
    "editable": true
   },
   "outputs": [
    {
     "data": {
      "image/png": "[encoded data removed]",
      "text/plain": [
       "<matplotlib.figure.Figure at 0x1050e7668>"
      ]
     },
     "metadata": {},
     "output_type": "display_data"
    }
   ],
   "source": [
    "x = np.linspace(-2, 4, 1000)\n",
    "plt.plot(x, np.exp(x))\n",
    "plt.plot(x, 4 * x)\n",
    "plt.grid(True)\n",
    "plt.show()"
   ]
  },
  {
   "cell_type": "code",
   "execution_count": 38,
   "metadata": {
    "collapsed": false,
    "deletable": true,
    "editable": true
   },
   "outputs": [
    {
     "name": "stdout",
     "output_type": "stream",
     "text": [
      " i |     a     |     c     |     b     |     fa    |     fc     |     fb     |   b-a\n",
      "----------------------------------------------------------------------------------------\n",
      " 1 | 0.0000000 | 0.5000000 | 1.0000000 | 1.0000000 | 0.3981570 | -0.3011687 | 1.0000000\n",
      " 2 | 0.5000000 | 0.7500000 | 1.0000000 | 0.3981570 | 0.0500501 | -0.3011687 | 0.5000000\n",
      " 3 | 0.7500000 | 0.8750000 | 1.0000000 | 0.0500501 | -0.1265466 | -0.3011687 | 0.2500000\n",
      " 4 | 0.7500000 | 0.8125000 | 0.8750000 | 0.0500501 | -0.0383231 | -0.1265466 | 0.1250000\n",
      " 5 | 0.7500000 | 0.7812500 | 0.8125000 | 0.0500501 | 0.0058664 | -0.0383231 | 0.0625000\n",
      " 6 | 0.7812500 | 0.7968750 | 0.8125000 | 0.0058664 | -0.0162303 | -0.0383231 | 0.0312500\n",
      " 7 | 0.7812500 | 0.7890625 | 0.7968750 | 0.0058664 | -0.0051821 | -0.0162303 | 0.0156250\n",
      " 8 | 0.7812500 | 0.7851562 | 0.7890625 | 0.0058664 | 0.0003421 | -0.0051821 | 0.0078125\n",
      " 9 | 0.7851562 | 0.7871094 | 0.7890625 | 0.0003421 | -0.0024200 | -0.0051821 | 0.0039062\n",
      "10 | 0.7851562 | 0.7861328 | 0.7871094 | 0.0003421 | -0.0010390 | -0.0024200 | 0.0019531\n",
      "11 | 0.7851562 | 0.7856445 | 0.7861328 | 0.0003421 | -0.0003484 | -0.0010390 | 0.0009766\n",
      "12 | 0.7851562 | 0.7854004 | 0.7856445 | 0.0003421 | -0.0000031 | -0.0003484 | 0.0004883\n",
      "13 | 0.7851562 | 0.7852783 | 0.7854004 | 0.0003421 | 0.0001695 | -0.0000031 | 0.0002441\n",
      "14 | 0.7852783 | 0.7853394 | 0.7854004 | 0.0001695 | 0.0000832 | -0.0000031 | 0.0001221\n",
      "15 | 0.7853394 | 0.7853699 | 0.7854004 | 0.0000832 | 0.0000400 | -0.0000031 | 0.0000610\n",
      "16 | 0.7853699 | 0.7853851 | 0.7854004 | 0.0000400 | 0.0000184 | -0.0000031 | 0.0000305\n",
      "17 | 0.7853851 | 0.7853928 | 0.7854004 | 0.0000184 | 0.0000076 | -0.0000031 | 0.0000153\n",
      "18 | 0.7853928 | 0.7853966 | 0.7854004 | 0.0000076 | 0.0000022 | -0.0000031 | 0.0000076\n",
      "19 | 0.7853966 | 0.7853985 | 0.7854004 | 0.0000022 | -0.0000005 | -0.0000031 | 0.0000038\n",
      "20 | 0.7853966 | 0.7853975 | 0.7853985 | 0.0000022 | 0.0000009 | -0.0000005 | 0.0000019\n",
      "21 | 0.7853975 | 0.7853980 | 0.7853985 | 0.0000009 | 0.0000002 | -0.0000005 | 0.0000010\n",
      "22 | 0.7853980 | 0.7853982 | 0.7853985 | 0.0000002 | -0.0000001 | -0.0000005 | 0.0000005\n",
      "23 | 0.7853980 | 0.7853981 | 0.7853982 | 0.0000002 | 0.0000001 | -0.0000001 | 0.0000002\n",
      "Bisección: 0.7853981852531433\n"
     ]
    }
   ],
   "source": [
    "def f(x): \n",
    "    return np.cos(x) - np.sin(x)\n",
    "\n",
    "print('Bisección:', bisect(f, 0.0, 1.0))"
   ]
  },
  {
   "cell_type": "code",
   "execution_count": 42,
   "metadata": {
    "collapsed": false,
    "scrolled": false
   },
   "outputs": [
    {
     "name": "stdout",
     "output_type": "stream",
     "text": [
      " i |     x(i)     |    x(i+1)    ||x(i+1)-x(i)| | e_i/e_{i-1}\n",
      "--------------------------------------------------------------\n",
      " 0 | 0.0000000000 | 1.0000000000 | 1.0000000000 | 0.0000000000\n",
      " 1 | 1.0000000000 | 0.6988313211 | 0.3011686789 | 0.3011686789\n",
      " 2 | 0.6988313211 | 0.8211024770 | 0.1222711559 | 0.4059889505\n",
      " 3 | 0.8211024770 | 0.7706196800 | 0.0504827970 | 0.4128757646\n",
      " 4 | 0.7706196800 | 0.7915188509 | 0.0208991709 | 0.4139859947\n",
      " 5 | 0.7915188509 | 0.7828629457 | 0.0086559052 | 0.4141745748\n",
      " 6 | 0.7828629457 | 0.7864482811 | 0.0035853355 | 0.4142068748\n",
      " 7 | 0.7864482811 | 0.7849631907 | 0.0014850905 | 0.4142124150\n",
      " 8 | 0.7849631907 | 0.7855783350 | 0.0006151443 | 0.4142133655\n",
      " 9 | 0.7855783350 | 0.7853235339 | 0.0002548011 | 0.4142135286\n"
     ]
    },
    {
     "data": {
      "image/png": "[encoded data removed]",
      "text/plain": [
       "<matplotlib.figure.Figure at 0x105d09550>"
      ]
     },
     "metadata": {},
     "output_type": "display_data"
    },
    {
     "name": "stdout",
     "output_type": "stream",
     "text": [
      "FPI: 0.785323533885\n"
     ]
    }
   ],
   "source": [
    "print('FPI:', fpi(lambda x: x + f(x), 0, 10, True))"
   ]
  },
  {
   "cell_type": "code",
   "execution_count": 40,
   "metadata": {
    "collapsed": false
   },
   "outputs": [
    {
     "name": "stdout",
     "output_type": "stream",
     "text": [
      "i |     x(i)     |     x(i+1)   |      |x(i+1)-x(i)|     |  e_i/e_{i-1} | e_i/e_{i-1}^2\n",
      "----------------------------------------------------------------------------------------\n",
      "2 | 0.0000000000 | 1.0000000000 | 1.00000000000000000000 | 0.0000000000 | 0.0000000000\n",
      "3 | 1.0000000000 | 0.7820419015 | 0.21795809846086200423 | 0.2179580985 | 0.2179580985\n",
      "4 | 0.7820419015 | 0.7853981760 | 0.00335627446056385725 | 0.0153987142 | 0.0706498831\n",
      "5 | 0.7853981760 | 0.7853981634 | 0.00000001260225357402 | 0.0000037548 | 0.0011187506\n",
      "6 | 0.7853981634 | 0.7853981634 | 0.00000000000000011102 | 0.0000000088 | 0.6990589526\n",
      "Newton: 0.785398163397\n"
     ]
    }
   ],
   "source": [
    "print('Newton:', newton_method(f, lambda x: -np.sin(x) - np.cos(x), 0))"
   ]
  },
  {
   "cell_type": "markdown",
   "metadata": {},
   "source": [
    "Newton"
   ]
  },
  {
   "cell_type": "code",
   "execution_count": 117,
   "metadata": {
    "collapsed": false
   },
   "outputs": [
    {
     "data": {
      "image/png": "[encoded data removed]",
      "text/plain": [
       "<matplotlib.figure.Figure at 0x105eff630>"
      ]
     },
     "metadata": {},
     "output_type": "display_data"
    }
   ],
   "source": [
    "xs = np.linspace(-1.5, 1.5, 1000)\n",
    "\n",
    "plt.figure()\n",
    "plt.plot(xs, np.sin(x), label='sin(x)')\n",
    "plt.plot(xs, np.sin(x) - 0.6, label='sin(x) - t')\n",
    "plt.legend()\n",
    "plt.grid(True)\n",
    "plt.show()"
   ]
  },
  {
   "cell_type": "code",
   "execution_count": 120,
   "metadata": {
    "collapsed": false
   },
   "outputs": [
    {
     "data": {
      "image/png": "[encoded data removed]",
      "text/plain": [
       "<matplotlib.figure.Figure at 0x105d5dbe0>"
      ]
     },
     "metadata": {},
     "output_type": "display_data"
    }
   ],
   "source": [
    "def newton_arcsin(t):\n",
    "    f = lambda x: np.sin(x) - t\n",
    "    fp = lambda x: np.cos(x)\n",
    "    return newton_method(f, fp, 0.5)\n",
    "newton_arcsin = np.vectorize(newton_arcsin)\n",
    "\n",
    "xs = np.linspace(-1, 1, 1000)\n",
    "\n",
    "plt.figure(figsize=(16, 4))\n",
    "plt.subplot(1, 3, 1)\n",
    "plt.title('newton_arcsin(x)')\n",
    "plt.grid(True)\n",
    "plt.plot(xs, newton_arcsin(xs))\n",
    "\n",
    "plt.subplot(1, 3, 2)\n",
    "plt.title('np.arcsin(x)')\n",
    "plt.grid(True)\n",
    "plt.plot(xs, np.arcsin(xs))\n",
    "\n",
    "plt.subplot(1, 3, 3)\n",
    "plt.title('Hist of Errors')\n",
    "plt.hist([i for i in (np.abs(np.arcsin(xs) - newton_arcsin(xs))) if i != 0])\n",
    "plt.show()"
   ]
  }
 ],
 "metadata": {
  "anaconda-cloud": {},
  "celltoolbar": "Raw Cell Format",
  "kernelspec": {
   "display_name": "Python 3",
   "language": "python",
   "name": "python3"
  },
  "language_info": {
   "codemirror_mode": {
    "name": "ipython",
    "version": 3
   },
   "file_extension": ".py",
   "mimetype": "text/x-python",
   "name": "python",
   "nbconvert_exporter": "python",
   "pygments_lexer": "ipython3",
   "version": "3.6.0"
  },
  "nbpresent": {
   "slides": {},
   "themes": {}
  }
 },
 "nbformat": 4,
 "nbformat_minor": 0
}
