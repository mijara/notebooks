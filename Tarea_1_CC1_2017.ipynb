{
 "cells": [
  {
   "cell_type": "markdown",
   "metadata": {
    "deletable": true,
    "editable": true
   },
   "source": [
    "<center>\n",
    "    <h1> ILI285 - Computación Científica I  / INF285 - Computación Científica </h1>\n",
    "    <h2> Tarea 1 </h2>\n",
    "    <h2> [S]cientific [C]omputing [T]eam </h2>\n",
    "</center>\n",
    "\n",
    "_Marzo 2017_"
   ]
  },
  {
   "cell_type": "markdown",
   "metadata": {
    "deletable": true,
    "editable": true
   },
   "source": [
    "# Tabla de Contenidos\n",
    "* [1.- Objetivos](#obj)\n",
    "* [2.- Hints](#hints)\n",
    "* [3.- Numpy y SciPy](#numpy_scipy)\n",
    "* [4.- SymPy](#sympy)\n",
    "* [5.- Matplotlib](#matplotlib)\n",
    "* [6.- Hands-On](#hands-on)\n",
    "* [7.- Instrucciones](#instr)"
   ]
  },
  {
   "cell_type": "markdown",
   "metadata": {
    "deletable": true,
    "editable": true
   },
   "source": [
    "<div id='obj' />\n",
    "# 1. Objetivos\n",
    "\n",
    "Para la presente tarea tiene por objetivos:\n",
    "\n",
    "* Familiarizarse con las librerias de python que se utilizarán en el curso.\n",
    "* Recordar conceptos importantes que se aprendieron en los cursos de Matemáticas."
   ]
  },
  {
   "cell_type": "markdown",
   "metadata": {
    "deletable": true,
    "editable": true
   },
   "source": [
    "<div id='obj' />\n",
    "# 2. Hints\n",
    "\n",
    "* _Markdown_ https://help.github.com/articles/basic-writing-and-formatting-syntax/\n",
    "* _numpy_ http://www.numpy.org\n",
    "* _scipy_ https://www.scipy.org/scipylib/index.html\n",
    "* _sympy_ http://docs.sympy.org/latest/index.html\n",
    "* _matplotlib_ http://matplotlib.org\n",
    "* _ipywidgets_ https://github.com/ipython/ipywidgets\n",
    "* _magic_ Use el siguiente magic: `%matplotlib inline`. http://nbviewer.jupyter.org/github/ipython/ipython/blob/1.x/examples/notebooks/Part%203%20-%20Plotting%20with%20Matplotlib.ipynb"
   ]
  },
  {
   "cell_type": "code",
   "execution_count": 2,
   "metadata": {
    "collapsed": false,
    "deletable": true,
    "editable": true
   },
   "outputs": [],
   "source": [
    "import matplotlib.pyplot as plt\n",
    "%matplotlib inline\n",
    "import numpy as np\n",
    "import sympy as sym\n",
    "import scipy as sp\n",
    "from ipywidgets import interact"
   ]
  },
  {
   "cell_type": "code",
   "execution_count": 2,
   "metadata": {
    "collapsed": false,
    "deletable": true,
    "editable": true
   },
   "outputs": [
    {
     "data": {
      "image/png": "[encoded data removed]",
      "text/plain": [
       "<matplotlib.figure.Figure at 0x11108d080>"
      ]
     },
     "metadata": {},
     "output_type": "display_data"
    }
   ],
   "source": [
    "def show_time(alpha=1):\n",
    "    # Creating the plot\n",
    "    plt.figure(figsize=(10,5))\n",
    "    # Creating a vector with 10000 components\n",
    "    x  = np.linspace(0.001,1,10000)\n",
    "    \n",
    "    # Selecting first plot\n",
    "    plt.subplot(121)\n",
    "    # Plotting x^alpha\n",
    "    plt.plot(x,np.power(x,alpha),'-')\n",
    "    # Adding the grid, this is nice because the plots look pretty.\n",
    "    plt.grid(True)\n",
    "    # Labels\n",
    "    plt.xlabel('x')\n",
    "    plt.ylabel('x^'+str(alpha))\n",
    "    # The title, notice it is able to handle LaTeX.\n",
    "    plt.title('The effect of the exponent on $x=[0,1]$')\n",
    "    # This is just to show you what to do.\n",
    "    plt.text(0,1.2,'PLEASE MOVE THE SLIDE')\n",
    "    \n",
    "    # Selecting second plot\n",
    "    plt.subplot(122)\n",
    "    # Plotting alpha x^(alpha-1)\n",
    "    plt.plot(x,alpha*np.power(x,alpha-1),'r-')\n",
    "    # Adding the grid, this is nice because the plots look pretty.\n",
    "    plt.grid(True)\n",
    "    # Labels\n",
    "    plt.xlabel('x')\n",
    "    plt.ylabel(str(alpha)+'x^'+str(alpha-1))\n",
    "    # The title, notice it is able to handle LaTeX.\n",
    "    plt.title('The derivative of x^'+str(alpha))\n",
    "    plt.show()\n",
    "    \n",
    "# Here we are using the ipywidget, it is very useful for analysing several \n",
    "# plots without generating all of them right away but on-demand.\n",
    "interact(show_time,alpha=(0.1,3,0.1))"
   ]
  },
  {
   "cell_type": "markdown",
   "metadata": {
    "deletable": true,
    "editable": true
   },
   "source": [
    "<div id='numpy_scipy' />\n",
    "# 3. _Numpy y SciPy_\n",
    "\n",
    "1. Implemente el producto matriz vector y compare el resultado sobre matrices aleatorias con el producto matriz de numpy. Realice el experimento para $10.000$ de tamaño $100\\times100$, presente los resultados en un histograma (numpy.histogram) de la norma del error entre su código y producto matriz vector de numpy.\n",
    "1. Construya una matriz diagonal dominante con operaciones vectoriales. ¿Cómo demuestra que es diagonal dominante?\n",
    "1. Multiplique 2 matrices diagonal dominante, ¿Es la matriz resultante diagonal dominante?\n",
    "1. Resuelva los siguientes sistemas de ecuaciones lineales para los $x_i$'s:\n",
    "    1. $x_1+1=x_2$, $x_1+x_2=10$\n",
    "    2. $\\displaystyle{\\sum_{i=1}^{20} x_{i}}=1$, $\\displaystyle{\\sum_{i=1}^{20} a_{j,i}\\,x_{i}}=1$, para $j=2 \\dots 20$ y $a_{j,i}=(i+j)\\exp{-(i-j)}$\n",
    "1. Construya un código basdo en scipy.optimize que encuentré el mínimo de $F(a_0,a_1)=\\displaystyle{\\sum_{i=1}^{1000}}(\\exp(x_i)-a_0-a_1\\,x_i)$, donde $x_i=-1+\\frac{2}{999}(i-1)$."
   ]
  },
  {
   "cell_type": "markdown",
   "metadata": {
    "deletable": true,
    "editable": true
   },
   "source": [
    "1)"
   ]
  },
  {
   "cell_type": "code",
   "execution_count": 115,
   "metadata": {
    "collapsed": false,
    "deletable": true,
    "editable": true
   },
   "outputs": [
    {
     "data": {
      "image/png": "[encoded data removed]",
      "text/plain": [
       "<matplotlib.figure.Figure at 0x1119ed390>"
      ]
     },
     "metadata": {},
     "output_type": "display_data"
    }
   ],
   "source": [
    "def dot(matrix, vector):\n",
    "    result = np.zeros(100)\n",
    "    row = 0\n",
    "    for col in range(100):\n",
    "        total = 0\n",
    "        for row in range(100):\n",
    "            total += matrix[col][row] * vector[row]\n",
    "\n",
    "        result[col] = total\n",
    "    return result\n",
    "\n",
    "\n",
    "def norm(m1, m2):\n",
    "    return np.linalg.norm(m1 - m2)\n",
    "\n",
    "\n",
    "N = 10000\n",
    "\n",
    "norms = np.zeros(N)\n",
    "for i in range(N):\n",
    "    matrix = np.random.random((100, 100))\n",
    "    vector = np.random.random(100)\n",
    "\n",
    "    norms[i] = norm(dot(matrix, vector), np.dot(matrix, vector))\n",
    "\n",
    "y, x = np.histogram(norms)\n",
    "\n",
    "plt.bar(x[:-1], y, width=x[1]-x[0])\n",
    "plt.xlim(min(x), max(x))\n",
    "plt.xlabel('norm')\n",
    "plt.ylabel('freq')\n",
    "plt.show()"
   ]
  },
  {
   "cell_type": "markdown",
   "metadata": {
    "deletable": true,
    "editable": true
   },
   "source": [
    "2)"
   ]
  },
  {
   "cell_type": "code",
   "execution_count": 75,
   "metadata": {
    "collapsed": false,
    "deletable": true,
    "editable": true,
    "scrolled": true
   },
   "outputs": [
    {
     "data": {
      "text/plain": [
       "array([[ 4.38678541,  0.59655765,  0.02253542,  0.47887692,  0.8635207 ],\n",
       "       [ 0.81303498,  4.76650455,  0.65578934,  0.19136117,  0.34159044],\n",
       "       [ 0.34232782,  0.28112734,  4.59317431,  0.01082922,  0.6529405 ],\n",
       "       [ 0.02068279,  0.45203264,  0.18288211,  4.50074334,  0.91458525],\n",
       "       [ 0.56078267,  0.82893817,  0.67841085,  0.70670585,  4.50105013]])"
      ]
     },
     "execution_count": 75,
     "metadata": {},
     "output_type": "execute_result"
    }
   ],
   "source": [
    "np.random.random((5, 5)) + np.eye(5) * 4"
   ]
  },
  {
   "cell_type": "markdown",
   "metadata": {
    "deletable": true,
    "editable": true
   },
   "source": [
    "3) Con un contraejemplo nos bastaría para ver que no se cumple."
   ]
  },
  {
   "cell_type": "code",
   "execution_count": 79,
   "metadata": {
    "collapsed": false,
    "deletable": true,
    "editable": true,
    "scrolled": true
   },
   "outputs": [
    {
     "data": {
      "text/plain": [
       "array([[6, 5, 5],\n",
       "       [5, 6, 5],\n",
       "       [5, 5, 6]])"
      ]
     },
     "execution_count": 79,
     "metadata": {},
     "output_type": "execute_result"
    }
   ],
   "source": [
    "np.array(((2, 1, 1), (1, 2, 1), (1, 1, 2))).dot(np.array(((2, 1, 1), (1, 2, 1), (1, 1, 2))))"
   ]
  },
  {
   "cell_type": "markdown",
   "metadata": {
    "deletable": true,
    "editable": true
   },
   "source": [
    "4.A)"
   ]
  },
  {
   "cell_type": "code",
   "execution_count": 81,
   "metadata": {
    "collapsed": false,
    "deletable": true,
    "editable": true,
    "scrolled": true
   },
   "outputs": [
    {
     "data": {
      "text/plain": [
       "array([ 4.5,  5.5])"
      ]
     },
     "execution_count": 81,
     "metadata": {},
     "output_type": "execute_result"
    }
   ],
   "source": [
    "fcs = np.array(((1, -1), (1, 1)))\n",
    "ccs = np.array((-1, 10))\n",
    "\n",
    "np.linalg.solve(fcs, ccs)"
   ]
  },
  {
   "cell_type": "markdown",
   "metadata": {
    "deletable": true,
    "editable": true
   },
   "source": [
    "4.B)"
   ]
  },
  {
   "cell_type": "code",
   "execution_count": 112,
   "metadata": {
    "collapsed": false,
    "deletable": true,
    "editable": true
   },
   "outputs": [
    {
     "data": {
      "text/plain": [
       "array([ -3.82262393e+14,   1.80341501e+15,  -6.83851309e+15,\n",
       "         1.28983402e+16,   3.50260370e+16,  -5.70436760e+15,\n",
       "        -1.45765416e+17,  -1.63120223e+17,   1.29788407e+18,\n",
       "        -1.37318258e+18,  -9.49336853e+18,  -1.99078382e+19,\n",
       "         5.18584174e+19,  -2.65839105e+20,   7.07063685e+20,\n",
       "        -4.33797375e+19,  -3.21004426e+20,  -7.97079783e+20,\n",
       "         1.86427228e+22,  -1.79445933e+22])"
      ]
     },
     "execution_count": 112,
     "metadata": {},
     "output_type": "execute_result"
    }
   ],
   "source": [
    "vectors = [np.ones(20)]\n",
    "for j in range(2, 21):\n",
    "    vectors.append(np.array([(i + j) * np.e ** (-(i - j)) for i in range(1, 21)]))\n",
    "np.linalg.solve(np.matrix(vectors), np.ones(20))"
   ]
  },
  {
   "cell_type": "markdown",
   "metadata": {
    "deletable": true,
    "editable": true
   },
   "source": [
    "5)"
   ]
  },
  {
   "cell_type": "markdown",
   "metadata": {
    "deletable": true,
    "editable": true
   },
   "source": [
    "<div id='sympy' />\n",
    "# 4. _SymPy_\n",
    "\n",
    "1. Obtenga el $\\displaystyle{\\lim_{x\\rightarrow 0}\\frac{\\sin(x)}{x}}$ con sympy.\n",
    "1. Obtenga la derivada de $f(x)=\\displaystyle{\\sin\\left(\\sum_{i=1}^{20}x^i\\right)\\cos\\left(\\prod_{i=1}^{20}\\log(x+i)\\right)}$\n",
    "1. Obtenga la parte real e imaginaria de la siguiente función compleja: $f(z)=z^2+1$, donde $z=x+\\mathit{i}\\,y$ y $\\mathit{i}=\\sqrt{-1}$\n",
    "1. Obtenga la inversa de $A=\\begin{pmatrix}\n",
    "a & b\\\\\n",
    "c & a\n",
    "\\end{pmatrix}$, donde $a,b,c \\in \\mathbb{R}$\n",
    "1. Obtenga los valores y vectores propios de $A=\\begin{pmatrix}\n",
    "a & b\\\\\n",
    "c & a\n",
    "\\end{pmatrix}$, donde $a,b,c \\in \\mathbb{R}$"
   ]
  },
  {
   "cell_type": "code",
   "execution_count": 4,
   "metadata": {
    "collapsed": false
   },
   "outputs": [],
   "source": [
    "sym.init_printing(use_unicode=True)"
   ]
  },
  {
   "cell_type": "markdown",
   "metadata": {
    "deletable": true,
    "editable": true
   },
   "source": [
    "1)"
   ]
  },
  {
   "cell_type": "code",
   "execution_count": 5,
   "metadata": {
    "collapsed": false,
    "deletable": true,
    "editable": true
   },
   "outputs": [
    {
     "data": {
      "image/png": "[encoded data removed]",
      "text/latex": [
       "$$1$$"
      ],
      "text/plain": [
       "1"
      ]
     },
     "execution_count": 5,
     "metadata": {},
     "output_type": "execute_result"
    }
   ],
   "source": [
    "x = sym.symbols('x')\n",
    "sym.limit(sym.sin(x) / x, x, 0)"
   ]
  },
  {
   "cell_type": "markdown",
   "metadata": {
    "deletable": true,
    "editable": true
   },
   "source": [
    "2)"
   ]
  },
  {
   "cell_type": "code",
   "execution_count": 26,
   "metadata": {
    "collapsed": false,
    "deletable": true,
    "editable": true,
    "scrolled": true
   },
   "outputs": [
    {
     "data": {
      "image/png": "[encoded data removed]",
      "text/latex": [
       "$$- \\left(\\sin{\\left (\\prod_{i=1}^{20} \\log{\\left (i + x \\right )} \\right )}\\right) \\left(\\sin{\\left (\\sum_{i=1}^{20} x^{i} \\right )}\\right) \\frac{d}{d x} \\prod_{i=1}^{20} \\log{\\left (i + x \\right )} + \\left(\\cos{\\left (\\prod_{i=1}^{20} \\log{\\left (i + x \\right )} \\right )}\\right) \\left(\\cos{\\left (\\sum_{i=1}^{20} x^{i} \\right )}\\right) \\sum_{i=1}^{20} \\frac{i x^{i}}{x}$$"
      ],
      "text/plain": [
       "                                                                              \n",
       "                           ⎛  20    ⎞                                         \n",
       "                           ⎜ ___    ⎟                                         \n",
       "     ⎛  20            ⎞    ⎜ ╲      ⎟   ⎛  20            ⎞      ⎛  20         \n",
       "     ⎜┬───┬           ⎟    ⎜  ╲    i⎟ d ⎜┬───┬           ⎟      ⎜┬───┬        \n",
       "- sin⎜│   │ log(i + x)⎟⋅sin⎜  ╱   x ⎟⋅──⎜│   │ log(i + x)⎟ + cos⎜│   │ log(i +\n",
       "     ⎜│   │           ⎟    ⎜ ╱      ⎟ dx⎜│   │           ⎟      ⎜│   │        \n",
       "     ⎝i = 1           ⎠    ⎜ ‾‾‾    ⎟   ⎝i = 1           ⎠      ⎝i = 1        \n",
       "                           ⎝i = 1   ⎠                                         \n",
       "                                                                              \n",
       "\n",
       "                     20      \n",
       "        ⎛  20    ⎞  ____     \n",
       "        ⎜ ___    ⎟  ╲        \n",
       "   ⎞    ⎜ ╲      ⎟   ╲      i\n",
       "   ⎟    ⎜  ╲    i⎟    ╲  i⋅x \n",
       " x)⎟⋅cos⎜  ╱   x ⎟⋅   ╱  ────\n",
       "   ⎟    ⎜ ╱      ⎟   ╱    x  \n",
       "   ⎠    ⎜ ‾‾‾    ⎟  ╱        \n",
       "        ⎝i = 1   ⎠  ‾‾‾‾     \n",
       "                   i = 1     "
      ]
     },
     "execution_count": 26,
     "metadata": {},
     "output_type": "execute_result"
    }
   ],
   "source": [
    "x, i = sym.symbols('x i')\n",
    "\n",
    "s = sym.sin(sym.Sum(x ** i, [i, 1, 20]))\n",
    "c = sym.cos(sym.Product(sym.log(x + i), [i, 1, 20]))\n",
    "\n",
    "sym.diff(c * s, x)"
   ]
  },
  {
   "cell_type": "markdown",
   "metadata": {
    "deletable": true,
    "editable": true
   },
   "source": [
    "3)"
   ]
  },
  {
   "cell_type": "code",
   "execution_count": 34,
   "metadata": {
    "collapsed": false,
    "deletable": true,
    "editable": true
   },
   "outputs": [
    {
     "name": "stdout",
     "output_type": "stream",
     "text": [
      "real:    -(im(x) + 1)**2 + re(x)**2 + 1\n",
      "complex: 2*(im(x) + 1)*re(x)\n"
     ]
    }
   ],
   "source": [
    "x = sym.symbols('x')\n",
    "z = x + sym.I\n",
    "\n",
    "f = (x + sym.I)**2 + 1 # x^2 + 2 * x * i\n",
    "\n",
    "print(\"real:   \", sym.re(f))\n",
    "print(\"complex:\", sym.im(f))"
   ]
  },
  {
   "cell_type": "markdown",
   "metadata": {
    "deletable": true,
    "editable": true
   },
   "source": [
    "4)"
   ]
  },
  {
   "cell_type": "code",
   "execution_count": 30,
   "metadata": {
    "collapsed": false,
    "deletable": true,
    "editable": true
   },
   "outputs": [
    {
     "data": {
      "text/latex": [
       "$$\\left[\\begin{matrix}\\frac{1}{a} + \\frac{b c}{a^{2} \\left(a - \\frac{b c}{a}\\right)} & - \\frac{b}{a \\left(a - \\frac{b c}{a}\\right)}\\\\- \\frac{c}{a \\left(a - \\frac{b c}{a}\\right)} & \\frac{1}{a - \\frac{b c}{a}}\\end{matrix}\\right]$$"
      ],
      "text/plain": [
       "⎡1       b⋅c           -b     ⎤\n",
       "⎢─ + ────────────  ───────────⎥\n",
       "⎢a    2 ⎛    b⋅c⎞    ⎛    b⋅c⎞⎥\n",
       "⎢    a ⋅⎜a - ───⎟  a⋅⎜a - ───⎟⎥\n",
       "⎢       ⎝     a ⎠    ⎝     a ⎠⎥\n",
       "⎢                             ⎥\n",
       "⎢      -c               1     ⎥\n",
       "⎢  ───────────       ───────  ⎥\n",
       "⎢    ⎛    b⋅c⎞           b⋅c  ⎥\n",
       "⎢  a⋅⎜a - ───⎟       a - ───  ⎥\n",
       "⎣    ⎝     a ⎠            a   ⎦"
      ]
     },
     "execution_count": 30,
     "metadata": {},
     "output_type": "execute_result"
    }
   ],
   "source": [
    "a, b, c = sym.symbols('a b c')\n",
    "A = sym.Matrix(((a, b), (c, a)))\n",
    "\n",
    "A.inv()"
   ]
  },
  {
   "cell_type": "markdown",
   "metadata": {
    "deletable": true,
    "editable": true
   },
   "source": [
    "5)"
   ]
  },
  {
   "cell_type": "code",
   "execution_count": 36,
   "metadata": {
    "collapsed": false,
    "deletable": true,
    "editable": true
   },
   "outputs": [
    {
     "data": {
      "image/png": "[encoded data removed]",
      "text/latex": [
       "$$\\left \\{ a - \\sqrt{b c} : 1, \\quad a + \\sqrt{b c} : 1\\right \\}$$"
      ],
      "text/plain": [
       "⎧      _____           _____   ⎫\n",
       "⎨a - ╲╱ b⋅c : 1, a + ╲╱ b⋅c : 1⎬\n",
       "⎩                              ⎭"
      ]
     },
     "execution_count": 36,
     "metadata": {},
     "output_type": "execute_result"
    }
   ],
   "source": [
    "A.eigenvals()"
   ]
  },
  {
   "cell_type": "code",
   "execution_count": 37,
   "metadata": {
    "collapsed": false
   },
   "outputs": [
    {
     "data": {
      "text/latex": [
       "$$\\left [ \\left ( a - \\sqrt{b c}, \\quad 1, \\quad \\left [ \\left[\\begin{matrix}- \\frac{b}{\\sqrt{b c}}\\\\1\\end{matrix}\\right]\\right ]\\right ), \\quad \\left ( a + \\sqrt{b c}, \\quad 1, \\quad \\left [ \\left[\\begin{matrix}\\frac{b}{\\sqrt{b c}}\\\\1\\end{matrix}\\right]\\right ]\\right )\\right ]$$"
      ],
      "text/plain": [
       "⎡⎛      _____     ⎡⎡  -b   ⎤⎤⎞  ⎛      _____     ⎡⎡   b   ⎤⎤⎞⎤\n",
       "⎢⎜a - ╲╱ b⋅c , 1, ⎢⎢───────⎥⎥⎟, ⎜a + ╲╱ b⋅c , 1, ⎢⎢───────⎥⎥⎟⎥\n",
       "⎢⎜                ⎢⎢  _____⎥⎥⎟  ⎜                ⎢⎢  _____⎥⎥⎟⎥\n",
       "⎢⎜                ⎢⎢╲╱ b⋅c ⎥⎥⎟  ⎜                ⎢⎢╲╱ b⋅c ⎥⎥⎟⎥\n",
       "⎢⎜                ⎢⎢       ⎥⎥⎟  ⎜                ⎢⎢       ⎥⎥⎟⎥\n",
       "⎣⎝                ⎣⎣   1   ⎦⎦⎠  ⎝                ⎣⎣   1   ⎦⎦⎠⎦"
      ]
     },
     "execution_count": 37,
     "metadata": {},
     "output_type": "execute_result"
    }
   ],
   "source": [
    "A.eigenvects()"
   ]
  },
  {
   "cell_type": "markdown",
   "metadata": {
    "deletable": true,
    "editable": true
   },
   "source": [
    "<div id='matplotlib' />\n",
    "# 5. _Matplotlib_\n",
    "\n",
    "1. Construya un plot de las siguientes funciones $\\sin(x)$, $\\cos(x)$, $\\exp(\\sin(x))$, y $\\exp(-\\tan^2(x))$ para $x=[0,2\\,\\pi]$. Todos debes incluirse en el mismo gráfico con diferentes colores y líneas sólidas. Debe incluir la leyenda respectiva, además de las etiquetas de los ejes y el título.\n",
    "1. Genere $10^6$ números aleatorios de la distribución normal estandar, obtenga un histograma con 50 bins. Grafique el histograma y la distribución normal estandar. ¿Se parecen?\n",
    "1. Construya la siguiente curva parametrica en 3D: $\\vec{r}(t)=\\langle \\cos(t), \\sin(t), t \\rangle$.\n",
    "1. Construya un plot en 2D de las ecuaciones de la pregunta 4.A de la sección Numpy y Scipy. ¿Puede encontrar la solución observando la gráfica? ¿Se puede hacer lo mismo con 4.B?\n",
    "1. Construya un plot en 3D de la función $F(a_0,a_1)$ de la pregunta 5 de la sección Numpy y Scipy. ¿Puede encontrar el mínimo observando la gráfica?"
   ]
  },
  {
   "cell_type": "markdown",
   "metadata": {
    "deletable": true,
    "editable": true
   },
   "source": [
    "1)"
   ]
  },
  {
   "cell_type": "code",
   "execution_count": 145,
   "metadata": {
    "collapsed": false,
    "deletable": true,
    "editable": true
   },
   "outputs": [
    {
     "data": {
      "image/png": "[encoded data removed]",
      "text/plain": [
       "<matplotlib.figure.Figure at 0x111363908>"
      ]
     },
     "metadata": {},
     "output_type": "display_data"
    }
   ],
   "source": [
    "t = np.arange(0, 2 * np.pi, 0.1)\n",
    "\n",
    "sin_plot = plt.plot(t, np.sin(t), 'r', label='sin(x)')[0]\n",
    "cos_plot = plt.plot(t, np.cos(t), 'b', label='cos(x)')[0]\n",
    "esin_plot = plt.plot(t, np.exp(np.sin(t)), 'g', label='exp(sin(x))')[0]\n",
    "etan_plot = plt.plot(t, np.exp(-np.tan(t) ** 2), 'y', label='exp(sin(x))')[0]\n",
    "\n",
    "plt.title('5.1 Sin, cos and exp Point Samples')\n",
    "plt.xlabel('x')\n",
    "plt.ylabel('f(x)')\n",
    "plt.legend(handles=[sin_plot, cos_plot, esin_plot, etan_plot])\n",
    "\n",
    "plt.show()"
   ]
  },
  {
   "cell_type": "markdown",
   "metadata": {
    "deletable": true,
    "editable": true
   },
   "source": [
    "4)"
   ]
  },
  {
   "cell_type": "code",
   "execution_count": 152,
   "metadata": {
    "collapsed": false,
    "deletable": true,
    "editable": true
   },
   "outputs": [
    {
     "data": {
      "image/png": "[encoded data removed]",
      "text/plain": [
       "<matplotlib.figure.Figure at 0x11153c2e8>"
      ]
     },
     "metadata": {},
     "output_type": "display_data"
    }
   ],
   "source": [
    "t = np.arange(4, 6, 0.1)\n",
    "\n",
    "plt.title('5.4')\n",
    "plt.plot(t, t + 1)\n",
    "plt.plot(t, 10 - t)\n",
    "plt.show()"
   ]
  },
  {
   "cell_type": "markdown",
   "metadata": {
    "deletable": true,
    "editable": true
   },
   "source": [
    "<div id='hands-on' />\n",
    "# 6. _Hands-On_\n",
    "\n",
    "1. Busque numéricamente la raíz de $\\sin(x)$ que está entre $3$ y $3.2$. Ya sabemos que corresponde a $\\pi$, pero aquí se quiere encontrar una forma de determinar $\\pi$.\n",
    "1. Grafique $\\displaystyle{\\frac{\\sin(x)}{x}}$ en el intervalo $[-1,1]$. ¿Ocurre algún problema? ¿Cómo se puede corregir?\n",
    "1. Considere los siguientes puntos: $(0.1,0.7, 4.2)$, $(0.5,0.5, 3.3)$, $(0.9,0.7, 4.2)$ y $(0.18,0.3, 2.5)$. Grafique lo puntos utilizando la función scatter de matplotlib. ¿Cuál es la mejor función lineal que aproxima esos puntos?\n",
    "1. Construya los siguientes campos vectoriales en 2D: $\\langle x,y\\rangle$,$\\langle -y,x\\rangle$ y $\\langle x-y,x+y\\rangle$ . ¿Qué patron observa?"
   ]
  },
  {
   "cell_type": "markdown",
   "metadata": {
    "deletable": true,
    "editable": true
   },
   "source": [
    "2) Al evaluar en el punto $x = 0$ la función se indefine al dividir por cero, [CORRECCIÓN PENDIENTE]"
   ]
  },
  {
   "cell_type": "code",
   "execution_count": 19,
   "metadata": {
    "collapsed": false,
    "deletable": true,
    "editable": true,
    "scrolled": true
   },
   "outputs": [
    {
     "name": "stderr",
     "output_type": "stream",
     "text": [
      "/usr/local/lib/python3.6/site-packages/ipykernel/__main__.py:6: RuntimeWarning: invalid value encountered in true_divide\n"
     ]
    },
    {
     "data": {
      "image/png": "[encoded data removed]",
      "text/plain": [
       "<matplotlib.figure.Figure at 0x102d82ac8>"
      ]
     },
     "metadata": {},
     "output_type": "display_data"
    }
   ],
   "source": [
    "t = np.linspace(-1, 1, 51)\n",
    "\n",
    "plt.title('sin(x)/x')\n",
    "plt.xlabel('x')\n",
    "plt.ylabel('y')\n",
    "plt.plot(t, np.sin(t) / t)\n",
    "plt.plot(0, 1)\n",
    "\n",
    "plt.show()"
   ]
  },
  {
   "cell_type": "markdown",
   "metadata": {
    "deletable": true,
    "editable": true
   },
   "source": [
    "<div id='instr' />\n",
    "# 7. Instrucciones:\n",
    " \n",
    " \n",
    "* La estructura del laboratorio es la siguiente:\n",
    "     1. Título, nombre de estudiante, email y rol.\n",
    "     2. Introducción.\n",
    "     3. Desarrollo y análisis de resultados.\n",
    "     4. Conclusiones.\n",
    "     5. Referencias.\n",
    "* El laboratorio debe ser realizado en `Jupyter` notebook (`Python3`).\n",
    "* Se evaluará la correcta utilización de librerias `NumPy`, `SciPy`, `SymPy`, `Matplotlib` y `ipywidgets`, así como la correcta implementación de algoritmos vectorizados cuando se indique.\n",
    "* El archivo de entrega debe denominarse Tarea1-rol.tar.gz, y debe contener un directorio con todos los archivos necesarios para ejecutar el notebook, junto con un archivo README indicando explícitamente la versión utilizada de Python.\n",
    "* El descuento por día de atraso será de $30$ puntos, con un máximo de 1 día de atraso. No se recibirán entregas después de este día.\n",
    "* El trabajo es personal, no se permite compartir código, aunque sí se sugiere discutir aspectos generales con sus compañeros. En caso de sospecha de copia, se citará a los involucrados a defender sus conocimientos de manera presencial, evaluación cuya nota reemplazará la obtenida en la tarea.\n",
    "* El no seguir estas instrucciones, implica descuentos en su nota obtenida."
   ]
  },
  {
   "cell_type": "code",
   "execution_count": null,
   "metadata": {
    "collapsed": true,
    "deletable": true,
    "editable": true
   },
   "outputs": [],
   "source": []
  }
 ],
 "metadata": {
  "anaconda-cloud": {},
  "kernelspec": {
   "display_name": "Python 3",
   "language": "python",
   "name": "python3"
  },
  "language_info": {
   "codemirror_mode": {
    "name": "ipython",
    "version": 3
   },
   "file_extension": ".py",
   "mimetype": "text/x-python",
   "name": "python",
   "nbconvert_exporter": "python",
   "pygments_lexer": "ipython3",
   "version": "3.6.0"
  },
  "widgets": {
   "state": {
    "f908da5f111d487184d83f8cc5754740": {
     "views": [
      {
       "cell_index": 5
      }
     ]
    }
   },
   "version": "1.2.0"
  }
 },
 "nbformat": 4,
 "nbformat_minor": 1
}
