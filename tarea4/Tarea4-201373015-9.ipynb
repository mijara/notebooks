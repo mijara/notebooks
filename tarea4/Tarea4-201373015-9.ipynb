{
 "cells": [
  {
   "cell_type": "markdown",
   "metadata": {},
   "source": [
    "<center>\n",
    "    <h1> ILI285 - Computación Científica I  / INF285 - Computación Científica </h1>\n",
    "    <h2> Tarea 4 </h2>\n",
    "    <h2> [S]cientific [C]omputing [T]eam </h2>\n",
    "</center>\n",
    "\n",
    "- **Nombre**: Marcelo Jara Almeyda\n",
    "- **Rol**: 18654885-K\n",
    "- **Email**: marcelo.jara.13@sansano.usm.cl\n",
    "\n",
    "_Mayo 2017_"
   ]
  },
  {
   "cell_type": "markdown",
   "metadata": {},
   "source": [
    "# Introducción\n",
    "\n",
    "En esta tarea se estudiarán los métodos PALU y Gauss-Seidel para estudiar métodos iterativos, con lo que podremos comparar el desempeño de ambos en distintos puntos de interés. En este caso no nos interesa mucho su tiempo de procesamiento ya que se habla de matrices pequeñas, si no que nos interesa su afinidad al resultado esperado."
   ]
  },
  {
   "cell_type": "code",
   "execution_count": 1,
   "metadata": {
    "collapsed": true
   },
   "outputs": [],
   "source": [
    "%matplotlib inline\n",
    "import numpy as np\n",
    "import scipy as sp\n",
    "from scipy.linalg import solve\n",
    "import matplotlib as mpl\n",
    "from mpl_toolkits.mplot3d import Axes3D\n",
    "from mpl_toolkits.mplot3d import axes3d\n",
    "from matplotlib import cm\n",
    "import matplotlib.mlab as mlab\n",
    "from matplotlib.widgets import Slider, Button, RadioButtons\n",
    "import matplotlib.pyplot as plt\n",
    "from ipywidgets.widgets import interact\n",
    "from ipywidgets import widgets\n",
    "import matplotlib\n",
    "import matplotlib.cm as cm\n",
    "\n",
    "matplotlib.rcParams['xtick.direction'] = 'out'\n",
    "matplotlib.rcParams['ytick.direction'] = 'out'\n",
    "matplotlib.rcParams['axes.titlesize'] = 16\n",
    "matplotlib.rcParams['axes.labelsize'] = 20\n",
    "matplotlib.rcParams['xtick.labelsize'] = 16\n",
    "matplotlib.rcParams['ytick.labelsize'] = 16"
   ]
  },
  {
   "cell_type": "markdown",
   "metadata": {},
   "source": [
    "La función visual fue alterada para recibir un _callback_ llamado _solver_ de forma de poder entregar fácilmente el método sin reescribir este código."
   ]
  },
  {
   "cell_type": "code",
   "execution_count": 2,
   "metadata": {
    "collapsed": true
   },
   "outputs": [],
   "source": [
    "def visual(n_steps_newton=2,x00=0.5,x01=2,solver=None):\n",
    "    # Vector form of the initial guess\n",
    "    x0=np.array([x00,x01])\n",
    "\n",
    "    # The functions to be solved\n",
    "    f1v=np.vectorize(lambda x,y: y-x**2)\n",
    "    f2v=np.vectorize(lambda x,y: x**2+y**2-1)\n",
    "    nf1f2v=np.vectorize(lambda x,y: np.linalg.norm(np.array([f1v(x,y),f2v(x,y)])))\n",
    "\n",
    "    # The jacobian matrix for f1 and f2\n",
    "    JM=np.vectorize(lambda x,y: np.array([[-2*x,1],[2*x,2*y]]))\n",
    "\n",
    "    # Creating matrix to store all approximations made by the Newton's method\n",
    "    xs=np.zeros((2,n_steps_newton+1))\n",
    "    xs[:,0]=x0\n",
    "\n",
    "    # Applying Newton's method n_steps_newton\n",
    "    for n in np.arange(n_steps_newton):\n",
    "        b=np.array([[f1v(xs[0,n],xs[1,n])],[f2v(xs[0,n],xs[1,n])]])\n",
    "        # HINT: HERE IS WHERE YOU NEED TO USE PALU OR GAUSS-SEIDEL!!!\n",
    "        A = JM(xs[0,n],xs[1,n])\n",
    "        if solver is None:\n",
    "            s = np.linalg.solve(A,b)\n",
    "        else:\n",
    "            s = solver(A, b, x0)\n",
    "        xs[:,n+1]=xs[:,n] - s.T\n",
    "\n",
    "    # Data for plotting\n",
    "    x = np.linspace(-2.0, 2.0, 100)\n",
    "    y = np.linspace(-2.0, 2.0, 100)\n",
    "    [X,Y]=np.meshgrid(x,y)\n",
    "\n",
    "    # Visualization! It is very important you learn about visualization in general.\n",
    "    plt.figure(figsize=(15,7.5))\n",
    "\n",
    "    plt.subplot(1, 2, 1)\n",
    "    CS = plt.pcolor(X,Y,nf1f2v(X,Y))\n",
    "    plt.contour(X, Y, f1v(X,Y), levels=[0], colors='k')\n",
    "    plt.contour(X, Y, f2v(X,Y), levels=[0], colors='k')\n",
    "    plt.colorbar(CS)\n",
    "    plt.plot(xs[0,:],xs[1,:],'.r',markersize=5)\n",
    "    plt.plot(xs[0,:],xs[1,:],'-r')\n",
    "    plt.axis('tight')\n",
    "    plt.xlabel('$x$')\n",
    "    plt.ylabel('$y$')\n",
    "    f1_at_x0=float(f1v(xs[0,-1],xs[1,-1]))\n",
    "    f2_at_x0=float(f2v(xs[0,-1],xs[1,-1]))\n",
    "    nf1f2v_at_x0=float(nf1f2v(xs[0,-1],xs[1,-1]))\n",
    "    plt.title('Plotting $f_1=${:.16f},\\n $f_2=${:.16f},\\n $\\|[f_1,f_2]\\|_2=${:.16f}, \\n $x_n=${:.16f}\\n and $y_n=${:.16f}'.format(f1_at_x0,f2_at_x0,nf1f2v_at_x0,xs[0,-1],xs[1,-1]))\n",
    "    \n",
    "    plt.subplot(1, 2, 2)\n",
    "    x_i=xs[0,:]\n",
    "    y_i=xs[1,:]\n",
    "    plt.semilogy(np.arange(n_steps_newton+1),np.abs(f1v(x_i,y_i)),'.',label='$|f_1|$',markersize=20)\n",
    "    plt.semilogy(np.arange(n_steps_newton+1),np.abs(f2v(x_i,y_i)),'d',label='$|f_2|$',markersize=15,alpha=0.5)\n",
    "    plt.semilogy(np.arange(n_steps_newton+1),np.abs(nf1f2v(x_i,y_i)),'s',label='$\\|[f_1,f_2]\\|$',markersize=12,alpha=0.5)\n",
    "    plt.xlabel('n (Número de iteraciones)')\n",
    "    plt.grid(True)\n",
    "    plt.legend(loc='best')\n",
    "\n",
    "    plt.show()"
   ]
  },
  {
   "cell_type": "code",
   "execution_count": 3,
   "metadata": {},
   "outputs": [
    {
     "data": {
      "application/vnd.jupyter.widget-view+json": {
       "model_id": "556bb36bf4264ee2b7a02e0ee3234395"
      }
     },
     "metadata": {},
     "output_type": "display_data"
    },
    {
     "data": {
      "text/plain": [
       "<function __main__.visual_interact>"
      ]
     },
     "execution_count": 3,
     "metadata": {},
     "output_type": "execute_result"
    }
   ],
   "source": [
    "def visual_interact(n_steps_newton=2,x00=0.5,x01=2):\n",
    "    visual(n_steps_newton=n_steps_newton, x00=x00, x01=x01)\n",
    "\n",
    "interact(visual_interact, n_steps_newton=(1,10), x00=(-2,2,0.1), x01=(-2,2,0.1))"
   ]
  },
  {
   "cell_type": "markdown",
   "metadata": {},
   "source": [
    "<h3> PALU: </h3>\n",
    "<p style=\"font-size:16px\"><b>a) </b> Dentro de la función visual, reemplazar la <code>función np.linalg.solve</code> (destacado en comentarios) con el método <b>PALU</b> para resolver el sistema de ecuaciones, para los puntos iniciales indicados más abajo, ¿Que observaciones puede destacar del comportamiento del método  y las soluciones encontradas? ¿Existen mejoras si aumenta el número de iteraciones? ¿Cuantas iteraciones se necesitan para saturar la solución?</p>\n",
    "\n",
    "1. **(5 puntos)** $\\mathbf{x}_0=\\langle1,2\\rangle$\n",
    "2. **(10 puntos)** $\\mathbf{x}_0=\\langle0,2\\rangle$\n",
    "3. **(15 puntos)** $\\mathbf{x}_0=\\langle-2,-2\\rangle$"
   ]
  },
  {
   "cell_type": "code",
   "execution_count": 5,
   "metadata": {},
   "outputs": [
    {
     "data": {
      "application/vnd.jupyter.widget-view+json": {
       "model_id": "e0f3948c3c8444a4bac9d26b22cf5f33"
      }
     },
     "metadata": {},
     "output_type": "display_data"
    },
    {
     "data": {
      "text/plain": [
       "<function __main__.visual_palu>"
      ]
     },
     "execution_count": 5,
     "metadata": {},
     "output_type": "execute_result"
    }
   ],
   "source": [
    "def PALU(A, b, x0):\n",
    "    P, L, U = sp.linalg.lu(A)\n",
    "    c = sp.linalg.solve_triangular(L, P @ b, lower=True)\n",
    "    return sp.linalg.solve_triangular(U, c, lower=False)\n",
    "\n",
    "def visual_palu(n_steps_newton=2,x00=0.5,x01=2):\n",
    "    visual(n_steps_newton=n_steps_newton, x00=x00, x01=x01, solver=PALU)\n",
    "\n",
    "interact(visual_palu, n_steps_newton=(1,20), x00=(-2,2,0.1), x01=(-2,2,0.1))"
   ]
  },
  {
   "cell_type": "markdown",
   "metadata": {},
   "source": [
    "Analizando cada punto, en $\\langle1,2\\rangle$ encontramos que converge sin problemas en pocas iteraciones, incluso en 3 iteraciones encontramos una respuesta bastante cercana, pero a la 6ta iteración ya la saturamos (como se aprecia en el gráfico de la derecha). Para el siguiente punto $\\langle0,2\\rangle$ el método falla con `singular matrix: resolution failed at diagonal 0`, indicandonos claramente que la matriz Jacobiana es singular, por lo que la descomposición no es posible. Finalmente para el punto $\\langle-2,-2\\rangle$ el método diverge sin poder encontrar una solución. Esto se puede deber a que el método converge localmente y nuestro _initial guess_ se encontraba muy lejano, aumentar la cantidad de iteraciones no soluciona el problema en este caso."
   ]
  },
  {
   "cell_type": "markdown",
   "metadata": {},
   "source": [
    "<h3> Métodos Iterativos: </h3>\n",
    "<p style=\"font-size:16px\"><b>b)</b> (1) Acople el método iterativo de <b>Gauss-Seidel</b> al visualizador (llamelo visual2), (2) incluya un cuarto parametro al widget para controlar el número de iteraciones de <b>Gauss-Seidel</b>, (3) use el algoritmo implementado para los siguientes puntos iniciales indicados más abajo. En ambos casos ¿Como afecta el número de iteraciones en la convergencia de la solución? </p>\n",
    "\n",
    "1. **(30 puntos)** Construir visual2: (1) Acoplando Gauss-Seidel y (2) Incluyendo un cuarto parámetro al widget\n",
    "2. **(10 puntos)** $\\mathbf{x}_0=\\langle1,2\\rangle$\n",
    "3. **(10 puntos)** $\\mathbf{x}_0=\\langle-2,-2\\rangle$"
   ]
  },
  {
   "cell_type": "code",
   "execution_count": 7,
   "metadata": {},
   "outputs": [
    {
     "data": {
      "application/vnd.jupyter.widget-view+json": {
       "model_id": "a44cfc7846ad4979913459a2067e618a"
      }
     },
     "metadata": {},
     "output_type": "display_data"
    },
    {
     "data": {
      "text/plain": [
       "<function __main__.visual_gs>"
      ]
     },
     "execution_count": 7,
     "metadata": {},
     "output_type": "execute_result"
    }
   ],
   "source": [
    "def gauss_seidel(A, b, x0, steps=5):\n",
    "    D = np.diag(np.diag(A))\n",
    "    L = np.tril(A) - D\n",
    "    U = np.triu(A) - D\n",
    "\n",
    "    sol = x0\n",
    "    for i in range(steps):\n",
    "        sol = np.linalg.inv(L + D) @ (b - (U @ sol).reshape((2,1)))\n",
    "    return sol\n",
    "\n",
    "def gauss_seidel_factory(steps=5):\n",
    "    return lambda A, b, x0: gauss_seidel(A, b, x0, steps=steps)\n",
    "\n",
    "def visual_gs(n_steps_newton=2, n_gs_steps=2, x00=1, x01=2):\n",
    "    visual(n_steps_newton=n_steps_newton, x00=x00, x01=x01, solver=gauss_seidel_factory(n_gs_steps))\n",
    "\n",
    "interact(visual_gs, n_steps_newton=(1,20), n_gs_steps=(1,50), x00=(-2,2,0.1), x01=(-2,2,0.1))"
   ]
  },
  {
   "cell_type": "markdown",
   "metadata": {},
   "source": [
    "Usando este método tenemos dos dependencias de iteraciones, Newton y Gauss-Seidel. Para el punto $\\langle1,2\\rangle$ usaremos inicialmente 50 iteraciones GS (lo que nos da un punto base para poder analizar Newton), la solución no es muy precisa para una cantidad de iteraciones relativamente alta, como se puede ver en el gráfico de la derecha, el error está en el vecindario de $10^{-4}$ y se satura en la 4ta iteración.\n",
    "\n",
    "Para iteraciones menores de GS el método tiende a diverger constántemente (digo tiende ya que no diverge para cada valor de iteraciones bajo).\n",
    "\n",
    "Para el punto $\\langle-2,-2\\rangle$ el método diverge sin importar la cantidad de iteraciones, como se ve en el gráfico de la derecha los puntos se ven dispersos, sin demostrar un patrón de convergencia."
   ]
  },
  {
   "cell_type": "markdown",
   "metadata": {},
   "source": [
    "<p style=\"font-size:16px\"><b>c) (20 Puntos)</b> Respecto al análisis realizado en el punto anterior, ¿Que información se desprende del segundo gráfico? ¿Que medida corresponde la curva $\\|[f_1 , f_2]\\|_2$ ? </p>"
   ]
  },
  {
   "cell_type": "markdown",
   "metadata": {
    "collapsed": true
   },
   "source": [
    "El segundo gráfico nos deja saber cómo converge nuestro método, se usó para hacer las conclusiones de divergencia y de saturación. La curva corresponde a la norma del error usando las funciones $f_1$ y $f_2$, evaluandolas en cada punto de cada iteración."
   ]
  },
  {
   "cell_type": "markdown",
   "metadata": {},
   "source": [
    "# Conclusión\n",
    "\n",
    "En esta tarea se pudo trabajar con los métodos Gauss-Seidel y PALU más cercanamente, siendo aplicados para analizar su convergencia en distintos puntos conflictivos. Se aprende que Gauss-Seidel es bastante dependiente de las iteraciones, pero podría servir mucho mejor para entregar aproximaciones rápidas, a su vez PALU es preciso, pero no sirve para entregar aproximaciones ya que es un método _atómico_.\n",
    "\n",
    "En general para estos casos no hay gran diferencia entre usar ambos métodos, pero si necesitara usar alguno para estos calculos usaría PALU ya que me fue más sencillo interpretas y usar sus soluciones. "
   ]
  },
  {
   "cell_type": "markdown",
   "metadata": {
    "collapsed": true
   },
   "source": [
    "# Referencias\n",
    "\n",
    "- https://docs.scipy.org/doc/"
   ]
  }
 ],
 "metadata": {
  "anaconda-cloud": {},
  "kernelspec": {
   "display_name": "Python 3",
   "language": "python",
   "name": "python3"
  },
  "language_info": {
   "codemirror_mode": {
    "name": "ipython",
    "version": 3
   },
   "file_extension": ".py",
   "mimetype": "text/x-python",
   "name": "python",
   "nbconvert_exporter": "python",
   "pygments_lexer": "ipython3",
   "version": "3.5.3"
  },
  "widgets": {
   "state": {
    "81d6d7b7d2e141e4956ff0f4caf90582": {
     "views": [
      {
       "cell_index": 7
      }
     ]
    }
   },
   "version": "1.2.0"
  }
 },
 "nbformat": 4,
 "nbformat_minor": 1
}
