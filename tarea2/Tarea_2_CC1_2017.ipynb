{
 "cells": [
  {
   "cell_type": "markdown",
   "metadata": {
    "deletable": true,
    "editable": true
   },
   "source": [
    "<center>\n",
    "    <h1> ILI285 - Computación Científica I  / INF285 - Computación Científica </h1>\n",
    "    <h2> Tarea 2 </h2>\n",
    "    <h2> [S]cientific [C]omputing [T]eam </h2>\n",
    "</center>\n",
    "\n",
    "_Marzo 2017_"
   ]
  },
  {
   "cell_type": "code",
   "execution_count": 2,
   "metadata": {
    "collapsed": false,
    "deletable": true,
    "editable": true
   },
   "outputs": [],
   "source": [
    "import numpy as np\n",
    "import matplotlib.pyplot as plt\n",
    "import ipywidgets as widgets\n",
    "%matplotlib inline"
   ]
  },
  {
   "cell_type": "markdown",
   "metadata": {
    "deletable": true,
    "editable": true
   },
   "source": [
    "# Tabla de Contenidos\n",
    "* [1.- Objetivos](#obj)\n",
    "* [2.- Hints](#hints)\n",
    "* [3.- Aritmética Punto Flotante](#aritmetica)\n",
    "* [4.- Pérdida de Significancia](#perdida)\n",
    "* [5.- Instrucciones](#instrucciones)"
   ]
  },
  {
   "cell_type": "markdown",
   "metadata": {
    "deletable": true,
    "editable": true
   },
   "source": [
    "<div id='obj' />\n",
    "# 1. Objetivos\n",
    "\n",
    "- Observar y aplicar conceptos de aritmética de punto flotante bajo el standard <i> IEEE 754 floating points. </i>http://ieeexplore.ieee.org/document/30711/\n",
    "- Analizar y comprender el origen del fenómeno de pérdida de significancia y aplicar técnicas para contrarrestar este fenómeno."
   ]
  },
  {
   "cell_type": "code",
   "execution_count": 7,
   "metadata": {
    "collapsed": false,
    "deletable": true,
    "editable": true
   },
   "outputs": [],
   "source": [
    "import bitstring as bs\n",
    "\n",
    "def pack_binary(f):\n",
    "    b = bs.pack('>d', f)\n",
    "    b = b.bin\n",
    "    return b[0], b[1:12], b[12:]\n",
    "\n",
    "def to_binary(f):\n",
    "    return ' '.join(pack_binary(f))\n",
    "\n",
    "def next_float(f):\n",
    "    #packing double-precision foat\n",
    "    b = bs.pack('>d', f)\n",
    "    \n",
    "    #extracting mantisa as unsigned int\n",
    "    #and adding up 1\n",
    "    m = b[12:].uint\n",
    "    m += 1\n",
    "    \n",
    "    #putting the result in his place\n",
    "    b[12:] = m\n",
    "    \n",
    "    return b.float"
   ]
  },
  {
   "cell_type": "markdown",
   "metadata": {
    "deletable": true,
    "editable": true
   },
   "source": [
    "<div id='aritmetica' />\n",
    "2. Aritmética de Punto Flotante\n",
    "-------------------------------\n",
    "\n",
    "El estándar IEEE consiste en un set de representaciones binarias de numeros reales, en donde la precisión denominada *double precision* se estructuran de la siguiente forma: el **signo** ( + o - ) que ocupa 1 bit, una **mantisa** $b$ , que contiene un string the bits significantes, usando un total de 52 bits y el **exponente** $p$, que ocupa 11 bits. La representación normalizada de los números de punto flotante es la siguiente:\n",
    "\n",
    "$$ \\pm1.bbb...b \\times 2^p$$\n",
    "\n",
    "a)  Defina que corresponde el valor de **machine epsilon** $\\epsilon_{mach}$ y explique porqué es posible obtener dicho valor en una computadora IEEE de doble precisión calculando el valor de la siguiente resta:\n",
    "\n",
    "$$\\left(\\frac{7.0}{3.0} - \\frac{4.0}{3.0}\\right) - 1.0 $$\n",
    "\n",
    "Implemente la resta usando variables de doble precisión y describa el procedimiento usando aritmética de doble precisión y Nearest Rounding Rule\n",
    "\n"
   ]
  },
  {
   "cell_type": "markdown",
   "metadata": {
    "deletable": true,
    "editable": true
   },
   "source": [
    "Claramente vemos un error de pérdida de precisión, matemáticamente el resultado debería ser 0, por lo que intentaremos ver que pasa realmente cuando intentamos hacer la resta:\n",
    "\n",
    "$$(\\frac{7.0}{3.0} - \\frac{4.0}{3.0})$$\n",
    "\n",
    "Dado que esta no está entregando el valor esperado $1$.\n",
    "\n",
    "En representación binaria, la resta se vería como:"
   ]
  },
  {
   "cell_type": "code",
   "execution_count": 8,
   "metadata": {
    "collapsed": false,
    "deletable": true,
    "editable": true,
    "scrolled": false
   },
   "outputs": [
    {
     "name": "stdout",
     "output_type": "stream",
     "text": [
      "  0 10000000000 0010101010101010101010101010101010101010101010101011\n",
      "- 0 01111111111 0101010101010101010101010101010101010101010101010101\n",
      "  - ----------- ----------------------------------------------------\n",
      "= 0 01111111111 0000000000000000000000000000000000000000000000000001\n"
     ]
    }
   ],
   "source": [
    "print(\"  \" + to_binary(7.0/3.0))\n",
    "print(\"- \" + to_binary(4.0/3.0))\n",
    "print(\"  \" + to_binary(0.0).replace(\"0\", \"-\"))\n",
    "print(\"= \" + to_binary(7.0/3.0 - 4.0/3.0))"
   ]
  },
  {
   "cell_type": "markdown",
   "metadata": {
    "deletable": true,
    "editable": true
   },
   "source": [
    "Para restar floats IEEE 754 debemos correr la coma hasta lograr el mismo exponente en ambos números:"
   ]
  },
  {
   "cell_type": "code",
   "execution_count": 9,
   "metadata": {
    "collapsed": false,
    "deletable": true,
    "editable": true
   },
   "outputs": [
    {
     "name": "stdout",
     "output_type": "stream",
     "text": [
      "  0 10000000000 0010101010101010101010101010101010101010101010101011\n",
      "- 0 10000000000 1010101010101010101010101010101010101010101010101010\n",
      "  - ----------- ----------------------------------------------------\n",
      "= 0 01111111111 0000000000000000000000000000000000000000000000000001\n"
     ]
    }
   ],
   "source": [
    "def shift_right(b, places):\n",
    "    sign, exp, mantissa = b\n",
    "    exp = bin(int(exp, 2) + places)[2:]\n",
    "    exp = (11 - len(exp)) * \"0\" + exp\n",
    "    return sign, exp, \"0\"*(places - 1) + \"1\" + mantissa[:(52 - places)]\n",
    "\n",
    "print(\"  \" + to_binary(7.0/3.0))\n",
    "print(\"- \" + \" \".join(shift_right(pack_binary(4.0/3.0), 1)))\n",
    "print(\"  \" + to_binary(0.0).replace(\"0\", \"-\"))\n",
    "print(\"= \" + to_binary(7.0/3.0 - 4.0/3.0))"
   ]
  },
  {
   "cell_type": "markdown",
   "metadata": {
    "deletable": true,
    "editable": true
   },
   "source": [
    "Por lo anterior, notamos que al hacer _shift_, redondear, restar los valores de puntos flotantes y normalizar perdemos información sobre los valores menos significativos, lo que resultará en que el valor final no sea exactamente $1$, si no que el valor siguiente a $1$ representable por este estándar."
   ]
  },
  {
   "cell_type": "markdown",
   "metadata": {
    "deletable": true,
    "editable": true
   },
   "source": [
    "b) Considere la serie geométrica:\n",
    "\n",
    "$$\\sum_{i=0}^{\\infty} r^i = \\frac{1}{1-r}$$ \n",
    "\n",
    "para $|r|<1$. Ahora considere el siguiente código."
   ]
  },
  {
   "cell_type": "code",
   "execution_count": 10,
   "metadata": {
    "collapsed": false,
    "deletable": true,
    "editable": true
   },
   "outputs": [],
   "source": [
    "# Suma parcial de serie geométrica.\n",
    "# Esta función realiza una suma parcial de la serie geométrica con M terminos, \n",
    "# pero detecta si es que los terminos que se están agregando aportan o no al\n",
    "# resultado final. En caso de que los terminos ya no aporten, se detiene el loop\n",
    "# y se retorna el valor obtenido y el índice en que se detuvo el loop.\n",
    "\n",
    "def my_partial_geometric_series(r, M):\n",
    "    sum_final = 1.0\n",
    "    sum_before = sum_final\n",
    "    final_index = -1\n",
    "    for i in np.arange(1, M):\n",
    "        sum_before += r**i\n",
    "        if sum_final == sum_before:\n",
    "            final_index = i - 1\n",
    "            break\n",
    "        else:\n",
    "            sum_final = sum_before\n",
    "    # Se retorna el valor obtenido de la suma parcial y cuando se truncó\n",
    "    # dado que no aportaba.\n",
    "    return np.array([sum_final, final_index])"
   ]
  },
  {
   "cell_type": "markdown",
   "metadata": {
    "deletable": true,
    "editable": true
   },
   "source": [
    "Ahora para distintos valores de $r$ se han obtenido el número de terminos que efectivamente aportan al resultado final dado que se está utilizando _double precision_."
   ]
  },
  {
   "cell_type": "code",
   "execution_count": 11,
   "metadata": {
    "collapsed": false,
    "deletable": true,
    "editable": true
   },
   "outputs": [],
   "source": [
    "N = 20\n",
    "M = 1e8\n",
    "r_all = np.logspace(-1, -20, N)\n",
    "out_data = np.zeros((N, 2))\n",
    "\n",
    "for i in np.arange(N):\n",
    "    out_data[i, :] = my_partial_geometric_series(r_all[i], M)"
   ]
  },
  {
   "cell_type": "markdown",
   "metadata": {
    "deletable": true,
    "editable": true
   },
   "source": [
    "Graficando la candidad de terminos significativos en _double precision_ versus el $r$."
   ]
  },
  {
   "cell_type": "code",
   "execution_count": 12,
   "metadata": {
    "collapsed": false,
    "deletable": true,
    "editable": true,
    "scrolled": true
   },
   "outputs": [
    {
     "data": {
      "image/png": "[encoded data removed]",
      "text/plain": [
       "<matplotlib.figure.Figure at 0x104ec5630>"
      ]
     },
     "metadata": {},
     "output_type": "display_data"
    }
   ],
   "source": [
    "plt.figure()\n",
    "plt.loglog(r_all, out_data[:, 1], '.')\n",
    "plt.grid(True)\n",
    "plt.ylim([10**(-0.5), np.max(out_data[:, 1]) + 1])\n",
    "plt.show()"
   ]
  },
  {
   "cell_type": "markdown",
   "metadata": {
    "deletable": true,
    "editable": true
   },
   "source": [
    "Explique cláramente por qué a medida que disminuye $r$ disminuye la cantidad de terminos significativos obtenidos.\n"
   ]
  },
  {
   "cell_type": "markdown",
   "metadata": {
    "collapsed": false,
    "deletable": true,
    "editable": true
   },
   "source": [
    "Es claro ver que al tener valores de $r$ cada vez más bajos, nuestra suma requerirá poder representar valores en la mantisa cada vez más pequeños, eventualmente nos encontraremos con valores tan pequeños que saldrán de la mantisa, siendo víctimas de la regla del redondeo.\n",
    "\n",
    "En el siguiente gráfico se podrá ver cómo se explica la perdida de nuestra representación, en términos de cada iteración."
   ]
  },
  {
   "cell_type": "code",
   "execution_count": 13,
   "metadata": {
    "collapsed": false,
    "deletable": true,
    "editable": true,
    "scrolled": true
   },
   "outputs": [
    {
     "data": {
      "image/png": "[encoded data removed]",
      "text/plain": [
       "<matplotlib.figure.Figure at 0x105158390>"
      ]
     },
     "metadata": {},
     "output_type": "display_data"
    }
   ],
   "source": [
    "import sys\n",
    "epsilon = sys.float_info.epsilon\n",
    "\n",
    "def my_partial_geometric_series_2(r, M):\n",
    "    sum_before = 1.0\n",
    "    for i in np.arange(1, M):\n",
    "        sum_before += r**i\n",
    "        yield [sum_before, i - 1]\n",
    "\n",
    "r = r_all[0]\n",
    "results = list(my_partial_geometric_series_2(r, 30))\n",
    "\n",
    "terms = []\n",
    "errs = []\n",
    "for t, i in results:\n",
    "    terms.append(r**(i + 1))\n",
    "    errs.append(t * epsilon / 2)\n",
    "\n",
    "plt.figure()\n",
    "plt.grid(True)\n",
    "plt.plot(np.arange(29), errs, label='Err = 1/2 * epsilon * r')\n",
    "plt.plot(np.arange(29), terms, label='Siguiente Término')\n",
    "plt.ylim(- 1e-16, 1e-15)\n",
    "plt.title('Siguiente Término vs Error Representable')\n",
    "plt.legend()\n",
    "plt.xlabel('Iteraciones')\n",
    "plt.show()"
   ]
  },
  {
   "cell_type": "markdown",
   "metadata": {
    "deletable": true,
    "editable": true
   },
   "source": [
    "En el gráfico anterior vemos que en la iteración $15$, con $r = 0.1$, corta al eje que nos indica si el error escalado permite representar los valores menores sumados, es decir:\n",
    "\n",
    "$$|fl(x) - x| < \\frac{1}{2} * \\epsilon * x$$\n",
    "\n",
    "Al tener valores sumados que son menores a este rango, no afectarán la suma final."
   ]
  },
  {
   "cell_type": "markdown",
   "metadata": {
    "deletable": true,
    "editable": true
   },
   "source": [
    "**C)** Explique la razón de por qué el loop indicado debe ejecutar el break. Utilice la función \"to_binary\" incluida en el jupyter notebook \"03_floating_point_arithmetic\" para entregar su justificación. Obtenga el menor valor de $X$ que ejecuta el break."
   ]
  },
  {
   "cell_type": "code",
   "execution_count": 14,
   "metadata": {
    "collapsed": false,
    "deletable": true,
    "editable": true
   },
   "outputs": [
    {
     "name": "stdout",
     "output_type": "stream",
     "text": [
      "They are equal! Why?\n"
     ]
    }
   ],
   "source": [
    "# Hint: Comenzando con X=1.0 se demorará mucho, piense primero, determine un buen X y luego ejecute el código.\n",
    "X = 9007199254740991.0\n",
    "a = X + 0.0\n",
    "b = X + 1.0\n",
    "\n",
    "while(True):\n",
    "    a += 1.0\n",
    "    b += 1.0\n",
    "    if a == b:\n",
    "        print('They are equal! Why?')\n",
    "        break"
   ]
  },
  {
   "cell_type": "markdown",
   "metadata": {
    "deletable": true,
    "editable": true
   },
   "source": [
    "<div id='perdida' />\n",
    "4. Perdida de Significancia\n",
    "---------------------------\n",
    "\n",
    "La **Pérdida de Significancia** ocurre cuando en un cálculo numérico muchos dígitos relevantes se cancelan, dada la aritmética de punto flotante finita ocupada por los computadores. Cuando un número es restado por otro número considerablemente parecido, efectos indeseados ocurren tales como la cancelación  y reducción de dígitos."
   ]
  },
  {
   "cell_type": "markdown",
   "metadata": {
    "deletable": true,
    "editable": true
   },
   "source": [
    "#### 1. Dada la función:\n",
    "\n",
    "$$f(x) = \\frac{1 - x}{ 1 + x} - \\frac{1}{3x+1}$$\n",
    "\n",
    "a) Grafique la función usando $x \\in {[-10,10]}$ ¿Para que valores de x la función queda reducida a $0$?"
   ]
  },
  {
   "cell_type": "code",
   "execution_count": 15,
   "metadata": {
    "collapsed": false,
    "deletable": true,
    "editable": true
   },
   "outputs": [],
   "source": [
    "def f(x):\n",
    "    return (1 - x)/(1 + x) - 1/(3 * x + 1)\n",
    "f = np.vectorize(f)"
   ]
  },
  {
   "cell_type": "code",
   "execution_count": 16,
   "metadata": {
    "collapsed": false,
    "deletable": true,
    "editable": true,
    "scrolled": false
   },
   "outputs": [
    {
     "data": {
      "image/png": "[encoded data removed]",
      "text/plain": [
       "<matplotlib.figure.Figure at 0x105180710>"
      ]
     },
     "metadata": {},
     "output_type": "display_data"
    }
   ],
   "source": [
    "plt.figure(figsize=(14, 4))\n",
    "\n",
    "xs = np.linspace(-10, 10, 500)\n",
    "ys = f(xs)\n",
    "\n",
    "plt.subplot(1, 2, 1)\n",
    "plt.title(\"Original\")\n",
    "plt.grid(True)\n",
    "plt.plot(xs, ys)\n",
    "\n",
    "xs = np.linspace(-2, 2, 500)\n",
    "ys = f(xs)\n",
    "\n",
    "plt.subplot(1, 2, 2)\n",
    "plt.ylim(-1, 1)\n",
    "plt.title(\"Original con zoom en las raices\")\n",
    "plt.grid(True)\n",
    "plt.plot(xs, ys)\n",
    "\n",
    "plt.show()"
   ]
  },
  {
   "cell_type": "markdown",
   "metadata": {
    "deletable": true,
    "editable": true
   },
   "source": [
    "b) Usando $x = [10^{-1} , 10^{-2} , ... , 10^{-20}] $ , calcule los valores de f(x) ¿Que ocurre con los valores observados? ¿En que momento ocurre pérdida de significancia? Describa el origen de cancelación de digítos. "
   ]
  },
  {
   "cell_type": "code",
   "execution_count": 82,
   "metadata": {
    "collapsed": false,
    "deletable": true,
    "editable": true,
    "scrolled": true
   },
   "outputs": [
    {
     "data": {
      "image/png": "[encoded data removed]",
      "text/plain": [
       "<matplotlib.figure.Figure at 0x10500f860>"
      ]
     },
     "metadata": {},
     "output_type": "display_data"
    }
   ],
   "source": [
    "xs = np.logspace(-1, -20, 20)\n",
    "ys = f(xs)\n",
    "\n",
    "plt.figure()\n",
    "plt.grid(True)\n",
    "plt.ylim(0, 0.06)\n",
    "plt.plot(xs, ys)\n",
    "plt.show()"
   ]
  },
  {
   "cell_type": "markdown",
   "metadata": {
    "deletable": true,
    "editable": true
   },
   "source": [
    "Para saber si estamos perdiendo significancia analizaremos un momento en la fórmula en que no se puedan representar más términos, efectivamente retornando el mismo resultado de la operación anterior."
   ]
  },
  {
   "cell_type": "code",
   "execution_count": 91,
   "metadata": {
    "collapsed": false,
    "deletable": true,
    "editable": true,
    "scrolled": false
   },
   "outputs": [
    {
     "name": "stdout",
     "output_type": "stream",
     "text": [
      "x      | bin(f(x))                                                          | f(x)\n",
      "0.1    | 0 01111111010 1001000100000001110010100100101100110000010101100000   0.04895104895104896\n",
      "0.01   | 0 01111111000 0011000110001001010101101011111010000100011100000000   0.009324233394213177\n",
      "0.001  | 0 01111110101 0000010001010000110001100011111001001100110000000000   0.0009930249212402043\n",
      "0.0001 | 0 01111110001 1010001100100011000011000001110001010110000000000000   9.99300249920898e-05\n",
      "1e-05  | 0 01111101110 0100111110000101010101010100101101010000000000000000   9.999300024987612e-06\n",
      "1e-06  | 0 01111101011 0000110001101110111111101110011000000000000000000000   9.99992999961563e-07\n",
      "1e-07  | 0 01111100111 1010110101111111000101011111000000000000000000000000   9.999992989229156e-08\n",
      "1e-08  | 0 01111100100 0101011110011000111011001100000000000000000000000000   9.999999384113778e-09\n",
      "1e-09  | 0 01111100001 0001001011100000101111100000000000000000000000000000   9.999999717180685e-10\n",
      "1e-10  | 0 01111011101 1011011111001110000000000000000000000000000000000000   1.000000082740371e-10\n",
      "1e-11  | 0 01111011010 0101111111011000000000000000000000000000000000000000   1.000000082740371e-11\n",
      "1e-12  | 0 01111010111 0001100101111000000000000000000000000000000000000000   9.999778782798785e-13\n",
      "1e-13  | 0 01111010011 1100001010000000000000000000000000000000000000000000   1.000310945187266e-13\n",
      "1e-14  | 0 01111010000 0110100000000000000000000000000000000000000000000000   9.992007221626409e-15\n",
      "1e-15  | 0 01111001101 0010000000000000000000000000000000000000000000000000   9.992007221626409e-16\n",
      "1e-16  | 0 01111001010 0000000000000000000000000000000000000000000000000000   1.1102230246251565e-16\n",
      "1e-17  | 0 00000000000 0000000000000000000000000000000000000000000000000000   0.0\n",
      "1e-18  | 0 00000000000 0000000000000000000000000000000000000000000000000000 ! 0.0\n",
      "1e-19  | 0 00000000000 0000000000000000000000000000000000000000000000000000 ! 0.0\n",
      "1e-20  | 0 00000000000 0000000000000000000000000000000000000000000000000000 ! 0.0\n"
     ]
    }
   ],
   "source": [
    "print(\"x\".ljust(6), '|', 'bin(f(x))'.ljust(66), '|', 'f(x)')\n",
    "prev = 0\n",
    "for i in xs:\n",
    "    r = f(i)\n",
    "    print(str(i).ljust(6), '|', to_binary(r), \"!\" if r == prev else \" \", r)\n",
    "    prev = r"
   ]
  },
  {
   "cell_type": "markdown",
   "metadata": {
    "deletable": true,
    "editable": true
   },
   "source": [
    "En la tabla anterior notamos que al llegar a $1e-18$, comenzamos a obtener un resultado identico al resultado anterior, como se puede apreciar en la representación binaria del resultado, esto se explica ya que nuestras operaciones intentarán representar números no representables, por lo que se redondearán. Por ejemplo en una fórmula más sencilla $1 + x$ comenzaremos a \"sumar 0\", lo que es producido al intentar sumar un número menor que $\\frac{1}{2} \\cdot e_{mach}$, lo que en IEEE 754, al redondear, queda en $1$."
   ]
  },
  {
   "cell_type": "markdown",
   "metadata": {
    "deletable": true,
    "editable": true
   },
   "source": [
    "c) Reescriba la función original para evitar el proceso de pérdida de significancia (hint: busqué un denominador común para ambas fracciones.)"
   ]
  },
  {
   "cell_type": "code",
   "execution_count": 118,
   "metadata": {
    "collapsed": true,
    "deletable": true,
    "editable": true
   },
   "outputs": [],
   "source": [
    "def k(x):\n",
    "    return (x - 3 * x**2)/(1 + 4 * x + 3 * x**2)\n",
    "k = np.vectorize(k)"
   ]
  },
  {
   "cell_type": "code",
   "execution_count": 119,
   "metadata": {
    "collapsed": false,
    "deletable": true,
    "editable": true,
    "scrolled": true
   },
   "outputs": [
    {
     "data": {
      "image/png": "[encoded data removed]",
      "text/plain": [
       "<matplotlib.figure.Figure at 0x1052d46d8>"
      ]
     },
     "metadata": {},
     "output_type": "display_data"
    }
   ],
   "source": [
    "def plot(f, xs, title, grid):\n",
    "    plt.subplot(1, 2, grid)\n",
    "    plt.title(title)\n",
    "    plt.grid(True)\n",
    "    plt.plot(xs, f(xs))\n",
    "\n",
    "xs = np.logspace(-15, -20, 1000)\n",
    "plt.figure(figsize=(15, 4))\n",
    "plot(f, xs, \"Original\", 1)\n",
    "plot(k, xs, \"Reescrita\", 2)\n",
    "plt.show()"
   ]
  },
  {
   "cell_type": "markdown",
   "metadata": {
    "deletable": true,
    "editable": true
   },
   "source": [
    "Notamos que la función original, al perder precisión, nos presenta valores cercanos al resultado esperado, pero con errores, mientras que la función reescrita parece evitar estos errores (en la escala representada en el gráfico), lo que no significa que no pierda presición, si no que convenientemente pierde menos."
   ]
  },
  {
   "cell_type": "markdown",
   "metadata": {
    "deletable": true,
    "editable": true
   },
   "source": [
    "d) Analice la diferencia entre los resultados de la función $f(x)$ con la función reescrita en la pregunta anterior. Realice un gráfico que mida la diferencia entre los resultados del punto a) y c). Realice un análisis cualitativo y cuantitativo de los resultados."
   ]
  },
  {
   "cell_type": "code",
   "execution_count": 121,
   "metadata": {
    "collapsed": false,
    "deletable": true,
    "editable": true,
    "scrolled": false
   },
   "outputs": [
    {
     "data": {
      "image/png": "[encoded data removed]",
      "text/plain": [
       "<matplotlib.figure.Figure at 0x105b2f588>"
      ]
     },
     "metadata": {},
     "output_type": "display_data"
    }
   ],
   "source": [
    "xs = np.logspace(-20, -1, 100)\n",
    "\n",
    "ys1 = f(xs)\n",
    "ys2 = k(xs)\n",
    "errs = np.abs(ys1 - ys2)\n",
    "\n",
    "plt.figure(figsize=(14, 5))\n",
    "plt.title('Errores Absolutos')\n",
    "plt.loglog(xs, errs, '.')\n",
    "plt.ylim(0, 1)\n",
    "plt.xlabel('x')\n",
    "plt.ylabel('| f(x) - g(x) |')\n",
    "plt.grid(True)\n",
    "plt.show()"
   ]
  },
  {
   "cell_type": "markdown",
   "metadata": {
    "deletable": true,
    "editable": true
   },
   "source": [
    "CONCLUSIÓN"
   ]
  },
  {
   "cell_type": "markdown",
   "metadata": {
    "deletable": true,
    "editable": true
   },
   "source": [
    "#### 2. Para la siguiente función: \n",
    "\n",
    "$$g(x) = \\frac{1 - \\sec(x)}{\\tan(x)^2} $$\n",
    "\n",
    "a) Usando $x = [0,\\frac{\\pi}{4} ,\\frac{\\pi}{2}, \\frac{3\\pi}{4} , ... , 2\\pi ]$ (intervalo de $0$ a $2\\pi$ ) calcule los valores de esta función. Realice el mismo procedimiento del punto anterior."
   ]
  },
  {
   "cell_type": "code",
   "execution_count": 3,
   "metadata": {
    "collapsed": false,
    "deletable": true,
    "editable": true
   },
   "outputs": [
    {
     "name": "stderr",
     "output_type": "stream",
     "text": [
      "/usr/local/lib/python3.6/site-packages/ipykernel/__main__.py:3: RuntimeWarning: invalid value encountered in double_scalars\n",
      "  app.launch_new_instance()\n"
     ]
    },
    {
     "data": {
      "text/plain": [
       "<matplotlib.figure.Figure at 0x1070e9588>"
      ]
     },
     "metadata": {},
     "output_type": "display_data"
    },
    {
     "data": {
      "image/png": "[encoded data removed]",
      "text/plain": [
       "<matplotlib.figure.Figure at 0x1070e95f8>"
      ]
     },
     "metadata": {},
     "output_type": "display_data"
    }
   ],
   "source": [
    "def g(x):\n",
    "    #1 / (np.cos(x) + 1) - 1\n",
    "    return (1 - 1 / np.cos(x))/(np.tan(x)**2)\n",
    "g = np.vectorize(g)\n",
    "\n",
    "xs = np.arange(0, 2 * np.pi, np.pi/4)\n",
    "plt.figure(figsize=(14, 4))\n",
    "\n",
    "plt.figure()\n",
    "plt.title(\"Original\")\n",
    "plt.grid(True)\n",
    "plt.plot(xs, g(xs))\n",
    "plt.show()"
   ]
  },
  {
   "cell_type": "code",
   "execution_count": 123,
   "metadata": {
    "collapsed": false,
    "deletable": true,
    "editable": true
   },
   "outputs": [
    {
     "name": "stdout",
     "output_type": "stream",
     "text": [
      "x      | bin(f(x))                                                          | f(x)\n",
      "0.1    | 1 01111111101 1111111010110111110001011110100101011010111110010101   -0.4987479137114346\n",
      "0.01   | 1 01111111101 1111111111111100101110010010000000001011001110010111   -0.49998749979095564\n",
      "0.001  | 1 01111111101 1111111111111111111101111001110011000011000010000001   -0.4999998750142894\n",
      "0.0001 | 1 01111111101 1111111111111111111111111001001010000111010110000101   -0.4999999936279312\n",
      "1e-05  | 1 01111111110 0000000000000000000000010110001100010100101100101111   -0.500000041336852\n",
      "1e-06  | 1 01111111110 0000000000000101110100111000000100010111010001000110   -0.5000444502908372\n",
      "1e-07  | 1 01111111110 0000010101111010110011110101111101110111111111100010   -0.5107025913275687\n",
      "1e-08  | 0 00000000000 0000000000000000000000000000000000000000000000000000   0.0\n",
      "1e-09  | 0 00000000000 0000000000000000000000000000000000000000000000000000 ! 0.0\n",
      "1e-10  | 0 00000000000 0000000000000000000000000000000000000000000000000000 ! 0.0\n",
      "1e-11  | 0 00000000000 0000000000000000000000000000000000000000000000000000 ! 0.0\n",
      "1e-12  | 0 00000000000 0000000000000000000000000000000000000000000000000000 ! 0.0\n",
      "1e-13  | 0 00000000000 0000000000000000000000000000000000000000000000000000 ! 0.0\n",
      "1e-14  | 0 00000000000 0000000000000000000000000000000000000000000000000000 ! 0.0\n",
      "1e-15  | 0 00000000000 0000000000000000000000000000000000000000000000000000 ! 0.0\n",
      "1e-16  | 0 00000000000 0000000000000000000000000000000000000000000000000000 ! 0.0\n",
      "1e-17  | 0 00000000000 0000000000000000000000000000000000000000000000000000 ! 0.0\n",
      "1e-18  | 0 00000000000 0000000000000000000000000000000000000000000000000000 ! 0.0\n",
      "1e-19  | 0 00000000000 0000000000000000000000000000000000000000000000000000 ! 0.0\n",
      "1e-20  | 0 00000000000 0000000000000000000000000000000000000000000000000000 ! 0.0\n"
     ]
    }
   ],
   "source": [
    "xs = np.logspace(-1, -20, 20)\n",
    "\n",
    "print(\"x\".ljust(6), '|', 'bin(f(x))'.ljust(66), '|', 'f(x)')\n",
    "prev = 0\n",
    "for i in xs:\n",
    "    r = g(i)\n",
    "    print(str(i).ljust(6), '|', to_binary(r), \"!\" if r == prev else \" \", r)\n",
    "    prev = r"
   ]
  },
  {
   "cell_type": "code",
   "execution_count": 5,
   "metadata": {
    "collapsed": true,
    "deletable": true,
    "editable": true
   },
   "outputs": [],
   "source": [
    "def h(x):\n",
    "    return 1 / (np.cos(x) + 1) - 1\n",
    "h = np.vectorize(h)"
   ]
  },
  {
   "cell_type": "code",
   "execution_count": 7,
   "metadata": {
    "collapsed": false,
    "deletable": true,
    "editable": true
   },
   "outputs": [
    {
     "data": {
      "image/png": "[encoded data removed]",
      "text/plain": [
       "<matplotlib.figure.Figure at 0x1074d1828>"
      ]
     },
     "metadata": {},
     "output_type": "display_data"
    }
   ],
   "source": [
    "def plot(f, xs, title, grid):\n",
    "    plt.subplot(1, 2, grid)\n",
    "    plt.title(title)\n",
    "    plt.grid(True)\n",
    "    plt.plot(xs, f(xs))\n",
    "\n",
    "xs = np.logspace(-1, -20, 1000)\n",
    "plt.figure(figsize=(15, 4))\n",
    "plot(g, xs, \"Original\", 1)\n",
    "plot(h, xs, \"Reescrita\", 2)\n",
    "plt.show()"
   ]
  }
 ],
 "metadata": {
  "anaconda-cloud": {},
  "kernelspec": {
   "display_name": "Python 3",
   "language": "python",
   "name": "python3"
  },
  "language_info": {
   "codemirror_mode": {
    "name": "ipython",
    "version": 3
   },
   "file_extension": ".py",
   "mimetype": "text/x-python",
   "name": "python",
   "nbconvert_exporter": "python",
   "pygments_lexer": "ipython3",
   "version": "3.6.0"
  }
 },
 "nbformat": 4,
 "nbformat_minor": 0
}
