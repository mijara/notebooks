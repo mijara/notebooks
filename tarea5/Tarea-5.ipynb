{
 "cells": [
  {
   "cell_type": "markdown",
   "metadata": {},
   "source": [
    "<center>\n",
    "    <h1> ILI285 - Computación Científica I  / INF285 - Computación Científica </h1>\n",
    "    <h2> Tarea 5 </h2>\n",
    "    <h2> [S]cientific [C]omputing [T]eam </h2>\n",
    "</center>\n",
    "\n",
    "_Junio 2017_"
   ]
  },
  {
   "cell_type": "code",
   "execution_count": 2,
   "metadata": {
    "collapsed": true
   },
   "outputs": [],
   "source": [
    "import matplotlib.pyplot as plt\n",
    "from ipywidgets import widgets\n",
    "from ipywidgets import IntSlider\n",
    "import numpy as np\n",
    "import pickle\n",
    "from mpl_toolkits.mplot3d import Axes3D\n",
    "from IPython.display import clear_output\n",
    "from ipywidgets import fixed\n",
    "from IPython.display import display\n",
    "from scipy.optimize import newton\n",
    "%matplotlib inline"
   ]
  },
  {
   "cell_type": "markdown",
   "metadata": {},
   "source": [
    "<div id='obj' />\n",
    "# 1. Objetivos\n",
    "\n",
    "<ul>\n",
    "<li>Usar técnicas de interpolación para poder recorrer imágenes en el tiempo. </li>\n",
    "<li>Ver como el fenómeno de Runge afecta a la interpolación y observar como los puntos de Chebyshev ayudan para corregir a este ultimo.</li>\n",
    "</ul>\n"
   ]
  },
  {
   "cell_type": "code",
   "execution_count": 3,
   "metadata": {
    "collapsed": true
   },
   "outputs": [],
   "source": [
    "'''Función para generar n puntos de Chebyshev'''\n",
    "def Chebyshev_points(xmin,xmax,n):\n",
    "    ns = np.arange(1,n+1)\n",
    "    x = np.cos((2*ns-1)*np.pi/(2*n))\n",
    "    return (xmin+xmax)/2 + (xmax-xmin)*x/2"
   ]
  },
  {
   "cell_type": "code",
   "execution_count": 15,
   "metadata": {},
   "outputs": [],
   "source": [
    "images_list_faces = [0,4,8,12,16,20,24,28,32,36,40,44,48,52,56,60,64,68,72,76,80,84,88,92]\n",
    "t_i_faces = np.array(images_list_faces).astype(float)\n",
    "c_i_faces = Chebyshev_points(0,92,len(images_list_faces))[::-1]"
   ]
  },
  {
   "cell_type": "markdown",
   "metadata": {},
   "source": [
    "La interpolación es una herramienta muy útil, la cual nos permite encontrar un polinomio que pasa por puntos en específico y por consecuencia, encontrar un valor numérico para aquellos puntos donde no conocemos su imagen. En esta tarea vamos a hacer uso de esta herramienta para poder observar como una persona va envejeciendo en el tiempo. Para hacer esto, vamos a interpolar fotos de distintos instantes de su vida. \n",
    "\n",
    "Primero, se debe construir un polinomio interpolador $P(t)$, el cual evaluado en un instante $\\mathit{t}$ de tiempo retornará una matriz (la representación de la foto). Para realizar esta tarea se utilizará la interpolación de Lagrange. Este polinomio tendrá la siguiente estructura.\n",
    "\n",
    "$$\n",
    "P(t) = I_{1} \\frac{(t-t_{2})(t-t_{3})(t-t_{4})...(t-t_{n})}{(t_{1}-t_{2})(t_{1}-t_{3})(t_{1}-t_{4})...(t_{1}-t_{n})} + I_{2} \\frac{(t-t_{1})(t-t_{3})(t-t_{4})...(t-t_{n})}{(t_{2}-t_{1})(t_{2}-t_{3})(t_{2}-t_{4})...(t_{2}-t_{n})} + ... + I_{n} \\frac{(t-t_{1})(t-t_{2})(t-t_{3})...(t-t_{n-1})}{(t_{n}-t_{1})(t_{n}-t_{2})(t_{n}-t_{3})...(t_{n}-t_{n-1})}\n",
    "$$\n",
    "\n",
    "Aquí $I_{i}$ corresponde a una matriz (la representación de la Foto) y $t_{i}$ el instante de tiempo de esta, $i\\in \\{1...n\\}$. Es fácil ver que este polinomio nos retorna el resultado de una suma de matrices que son _ponderadas_ por los distintos $\\mathit{L}_{i}(t)$ de Lagrange."
   ]
  },
  {
   "cell_type": "markdown",
   "metadata": {},
   "source": [
    "# Pregunta 1 \n",
    "\n",
    "Implementar una función llamada interpolador que reciba la data a interpolar (las imágenes contenidas en Images.pkl), los índices de las fotos a interpolar, el punto que deseamos evaluar y los puntos de interpolación.  (Puede recibir más parámetros, pero los nombrados son obligatorios). Una vez que la función interpoladora este implementada, utilice su función para completar la variable llamada `I2` que se encuentra en la función adjunta más abajo llamada `show_images`.\n",
    "* ¿Qué sucede cuando evaluamos en instantes de tiempos que no fueron utilizados para interpolar? ¿Qué pasa con los que sí fueron utilizados?\n",
    "* ¿Hay indicios del fenómeno de Runge?, si es así, ¿Cómo lo identificó?"
   ]
  },
  {
   "cell_type": "code",
   "execution_count": 34,
   "metadata": {
    "collapsed": true
   },
   "outputs": [],
   "source": [
    "def lagrange(initial, ts, ys, x):\n",
    "    for i, y in enumerate(ys):\n",
    "        frac_t = np.prod([x - t for k, t in enumerate(ts) if k != i])\n",
    "        frac_b = np.prod([ts[i] - t for k, t in enumerate(ts) if k != i])\n",
    "        initial += y * frac_t / frac_b\n",
    "    return initial\n",
    "\n",
    "\n",
    "def interpolador(ts, ys, x):\n",
    "    return lagrange(np.zeros(ys.shape[1]), ts, ys, x)"
   ]
  },
  {
   "cell_type": "markdown",
   "metadata": {},
   "source": [
    "# Pregunta 2\n",
    "Utilice su función para completar la variable `I3` que se encuentra en la función adjunta más abajo llamada `show_images`, esta vez deberá interpolar las fotos utilizando los puntos de Chebyshev.\n",
    "\n",
    "* Utilizando los puntos de Chebyshev, ¿presentan las imágenes obtenidas de la interpolación el fenómeno de Runge?.\n",
    "* Explique por qué hay un desfase al momento de evaluar en un instante de tiempo $t_{i}$ entre las imágenes que genera la interpolación hecha en  `I3` con la interpolación en `I2` y las imágenes originales."
   ]
  },
  {
   "cell_type": "markdown",
   "metadata": {},
   "source": [
    "# Pregunta 3\n",
    "\n",
    "Para poder corregir el desfase que se observa entre las imágenes que genera `I3` con respecto a `I2` y las imágenes originales, es necesario hacer una interpolación paramétrica. Esto último se traduce a interpolar los instantes de tiempo $t_{i}$ respecto a los puntos de Chebyshev, con el fin de que cuando queramos encontrar la foto correspondiente a $t_{i}$, nosotros primero debemos encontrar el punto de Chebyshev $s$ correspondiente a  $t_{i}$ en el polinomio interpolador entre los instantes de tiempo y Chebyshev, luego utilizar este punto de Chebyshev $s$ para evaluar en el polinomio interpolador entre las fotos y Chebyshev para tener devuelta la foto correspondiente a $t_i$. Básicamente generamos la parametrización\n",
    "\n",
    "$$\n",
    "<t_i(s),I_i(s)>\n",
    "$$ \n",
    "\n",
    "Implemente una función llamada `interpoladorMejorado` que debe hacer lo siguiente:\n",
    "1. Interpolar los instantes de tiempo `t_i_faces` utilizando los puntos de Chebyshev `c_i_faces`.\n",
    "2. Hacer una busqueda de ceros del la función interpoladora anterior, para encontrar el punto de Chebyshev $\\mathit{s}$ correspondiente al instante de tiempo $\\mathit{t}$.\n",
    "3. Evaluar el punto de Chebyshev $\\mathit{s}$ encontrado en la busqueda de cero anterior, en la función interpoladora de las imagenes con el punto de Chebyshev.\n",
    "4. Completar la variable `I4` de la función `show_images` utilizando su función `interpoladoraMejorada`. \n",
    "\n",
    "¿Existe desfase? ¿Hay indicios de el fenómeno de Runge? Concluya."
   ]
  },
  {
   "cell_type": "code",
   "execution_count": 27,
   "metadata": {
    "collapsed": true
   },
   "outputs": [],
   "source": [
    "def interpoladorMejorado(ts, ys, x_t):\n",
    "    return interpolador(c_i_faces, ys, newton(lambda x: x_t - lagrange(0, c_i_faces, ts, x), x_t))"
   ]
  },
  {
   "cell_type": "code",
   "execution_count": 35,
   "metadata": {},
   "outputs": [
    {
     "data": {
      "application/vnd.jupyter.widget-view+json": {
       "model_id": "2ca8f3989b7e4f369718b370e76546bf"
      }
     },
     "metadata": {},
     "output_type": "display_data"
    },
    {
     "data": {
      "text/plain": [
       "<function __main__.show_images>"
      ]
     },
     "execution_count": 35,
     "metadata": {},
     "output_type": "execute_result"
    }
   ],
   "source": [
    "def show_images(x_t=0): \n",
    "    with open('images.pkl', 'rb') as handle:\n",
    "        images = pickle.load(handle) ## Se abre el dataset de caras\n",
    "    Original = images[x_t] #Aca se extrae la imagen original correspondiente a x_t del dataset de caras.\n",
    "    I2 = interpolador(t_i_faces,images[images_list_faces],x_t) #Interpolación utilizando los x_t\n",
    "    I3 = interpolador(c_i_faces,images[images_list_faces],x_t) #Interpolación utilizando los c_i\n",
    "    I4 = interpoladorMejorado(t_i_faces,images[images_list_faces],x_t) #Interpolación correción\n",
    "    px,py = 180,139 #Dimension de las imagenes de caras.\n",
    "    \n",
    "    f, ax = plt.subplots(1,figsize = (12,3))\n",
    "    ax.hlines(1,0,93)\n",
    "    ax.set_xlim(-3,95)\n",
    "    ax.set_ylim(-3,12)\n",
    "    ax.plot(images_list_faces,np.ones(np.shape(images_list_faces)),'o',ms = 5, c= 'r', label = \"puntos de interpolación\")\n",
    "    ax.plot(x_t,1,'o',ms = 5, c= 'b', label = \"puntos de evaluación\")\n",
    "    for t in range(0,len(images_list_faces)):\n",
    "       ax.text(images_list_faces[t],2, str(images_list_faces[t]), fontsize=10)\n",
    "    ax.text(x_t,-1, str(x_t), fontsize=15)\n",
    "    legend = ax.legend(loc='upper center', shadow=True, fontsize='large')\n",
    "    ax.axis('off')\n",
    "    \n",
    "    f, (ax1, ax2, ax3, ax4) = plt.subplots(1, 4, sharex='col', sharey='row', figsize=(16,4))\n",
    "\n",
    "    ax1.imshow(np.reshape(Original,(px,py)), cmap='gray')\n",
    "    ax2.imshow(np.reshape(I2,(px,py)), cmap='gray')\n",
    "    ax3.imshow(np.reshape(I3,(px,py)), cmap='gray')\n",
    "    ax4.imshow(np.reshape(I4,(px,py)), cmap='gray')\n",
    "    ax1.set_title('Imagen Original en el instante t = '+ str(x_t))\n",
    "    ax2.set_title('Interpolación Ptos Equiespaciados')\n",
    "    ax3.set_title('Interpolación Chebyshev')\n",
    "    ax4.set_title('Interpolación Chebyshev Mejorada')\n",
    "    plt.show()\n",
    "dx = 1\n",
    "widgets.interact(show_images,x_t = (0,92,dx))"
   ]
  },
  {
   "cell_type": "markdown",
   "metadata": {},
   "source": [
    "# Instrucciones:\n",
    " \n",
    " \n",
    "* La estructura del laboratorio es la siguiente:\n",
    "     1. Título, nombre de estudiante, email y rol.\n",
    "     2. Introducción.\n",
    "     3. Desarrollo y análisis de resultados.\n",
    "     4. Conclusiones.\n",
    "     5. Referencias.\n",
    "* La tarea debe ser realizada en `Jupyter` notebook (`Python3`).\n",
    "* Se evaluará la correcta utilización de librerias `NumPy`, `SciPy`, `SymPy`, `Matplotlib` y `ipywidgets`, así como la correcta implementación de algoritmos vectorizados cuando se indique.\n",
    "* El archivo de entrega debe denominarse Tarea5-rol.tar.gz, y debe contener un directorio con todos los archivos necesarios para ejecutar el notebook, junto con un archivo README indicando explícitamente las librerías o módulos utilizados.\n",
    "* El descuento por día de atraso será de $30$ puntos, con un máximo de 1 día de atraso. No se recibirán entregas después de este día.\n",
    "* El trabajo es personal, no se permite compartir código, aunque sí se sugiere discutir aspectos generales con sus compañeros. En caso de sospecha de copia, se citará a los involucrados a defender sus conocimientos de manera presencial, evaluación cuya nota reemplazará la obtenida en la tarea.\n",
    "* El no seguir estas instrucciones, implica descuentos en su nota obtenida."
   ]
  }
 ],
 "metadata": {
  "anaconda-cloud": {},
  "kernelspec": {
   "display_name": "Python 3",
   "language": "python",
   "name": "python3"
  },
  "language_info": {
   "codemirror_mode": {
    "name": "ipython",
    "version": 3
   },
   "file_extension": ".py",
   "mimetype": "text/x-python",
   "name": "python",
   "nbconvert_exporter": "python",
   "pygments_lexer": "ipython3",
   "version": "3.5.3"
  },
  "widgets": {
   "state": {
    "ea8a137bc2014a7985ff8533463e408a": {
     "views": [
      {
       "cell_index": 11
      }
     ]
    }
   },
   "version": "1.2.0"
  }
 },
 "nbformat": 4,
 "nbformat_minor": 1
}
