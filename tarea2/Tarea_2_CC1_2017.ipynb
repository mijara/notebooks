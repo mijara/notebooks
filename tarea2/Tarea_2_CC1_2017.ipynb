{
 "cells": [
  {
   "cell_type": "markdown",
   "metadata": {
    "deletable": true,
    "editable": true
   },
   "source": [
    "<center>\n",
    "    <h1> ILI285 - Computación Científica I  / INF285 - Computación Científica </h1>\n",
    "    <h2> Tarea 2 </h2>\n",
    "    <h2> [S]cientific [C]omputing [T]eam </h2>\n",
    "</center>\n",
    "\n",
    "_Marzo 2017_"
   ]
  },
  {
   "cell_type": "code",
   "execution_count": 2,
   "metadata": {
    "collapsed": false,
    "deletable": true,
    "editable": true
   },
   "outputs": [],
   "source": [
    "import numpy as np\n",
    "import matplotlib.pyplot as plt\n",
    "import ipywidgets as widgets\n",
    "%matplotlib inline"
   ]
  },
  {
   "cell_type": "markdown",
   "metadata": {
    "deletable": true,
    "editable": true
   },
   "source": [
    "# Tabla de Contenidos\n",
    "* [1.- Objetivos](#obj)\n",
    "* [2.- Hints](#hints)\n",
    "* [3.- Aritmética Punto Flotante](#aritmetica)\n",
    "* [4.- Pérdida de Significancia](#perdida)\n",
    "* [5.- Instrucciones](#instrucciones)"
   ]
  },
  {
   "cell_type": "markdown",
   "metadata": {
    "deletable": true,
    "editable": true
   },
   "source": [
    "<div id='obj' />\n",
    "# 1. Objetivos\n",
    "\n",
    "- Observar y aplicar conceptos de aritmética de punto flotante bajo el standard <i> IEEE 754 floating points. </i>http://ieeexplore.ieee.org/document/30711/\n",
    "- Analizar y comprender el origen del fenómeno de pérdida de significancia y aplicar técnicas para contrarrestar este fenómeno."
   ]
  },
  {
   "cell_type": "code",
   "execution_count": 125,
   "metadata": {
    "collapsed": false,
    "deletable": true,
    "editable": true
   },
   "outputs": [],
   "source": [
    "import bitstring as bs\n",
    "\n",
    "def pack_binary(f):\n",
    "    b = bs.pack('>d', f)\n",
    "    b = b.bin\n",
    "    return b[0], b[1:12], b[12:]\n",
    "\n",
    "def to_binary(f):\n",
    "    return ' '.join(pack_binary(f))\n",
    "\n",
    "def next_float(f):\n",
    "    #packing double-precision foat\n",
    "    b = bs.pack('>d', f)\n",
    "    \n",
    "    #extracting mantisa as unsigned int\n",
    "    #and adding up 1\n",
    "    m = b[12:].uint\n",
    "    m += 1\n",
    "    \n",
    "    #putting the result in his place\n",
    "    b[12:] = m\n",
    "    \n",
    "    return b.float"
   ]
  },
  {
   "cell_type": "markdown",
   "metadata": {
    "deletable": true,
    "editable": true
   },
   "source": [
    "<div id='aritmetica' />\n",
    "2. Aritmética de Punto Flotante\n",
    "-------------------------------\n",
    "\n",
    "El estándar IEEE consiste en un set de representaciones binarias de numeros reales, en donde la precisión denominada *double precision* se estructuran de la siguiente forma: el **signo** ( + o - ) que ocupa 1 bit, una **mantisa** $b$ , que contiene un string the bits significantes, usando un total de 52 bits y el **exponente** $p$, que ocupa 11 bits. La representación normalizada de los números de punto flotante es la siguiente:\n",
    "\n",
    "$$ \\pm1.bbb...b \\times 2^p$$\n",
    "\n",
    "a)  Defina que corresponde el valor de **machine epsilon** $\\epsilon_{mach}$ y explique porqué es posible obtener dicho valor en una computadora IEEE de doble precisión calculando el valor de la siguiente resta:\n",
    "\n",
    "$$\\left(\\frac{7.0}{3.0} - \\frac{4.0}{3.0}\\right) - 1.0 $$\n",
    "\n",
    "Implemente la resta usando variables de doble precisión y describa el procedimiento usando aritmética de doble precisión y Nearest Rounding Rule\n",
    "\n"
   ]
  },
  {
   "cell_type": "markdown",
   "metadata": {},
   "source": [
    "Claramente vemos un error de pérdida de precisión, matemáticamente el resultado debería ser 0, por lo que intentaremos ver que pasa realmente cuando intentamos hacer la resta:\n",
    "\n",
    "$$(\\frac{7.0}{3.0} - \\frac{4.0}{3.0})$$\n",
    "\n",
    "Dado que esta no está entregando el valor esperado $1$.\n",
    "\n",
    "En representación binaria, la resta se vería como:"
   ]
  },
  {
   "cell_type": "code",
   "execution_count": 126,
   "metadata": {
    "collapsed": false,
    "deletable": true,
    "editable": true,
    "scrolled": false
   },
   "outputs": [
    {
     "name": "stdout",
     "output_type": "stream",
     "text": [
      "  0 10000000000 0010101010101010101010101010101010101010101010101011\n",
      "- 0 01111111111 0101010101010101010101010101010101010101010101010101\n",
      "  - ----------- ----------------------------------------------------\n",
      "= 0 01111111111 0000000000000000000000000000000000000000000000000001\n"
     ]
    }
   ],
   "source": [
    "print(\"  \" + to_binary(7.0/3.0))\n",
    "print(\"- \" + to_binary(4.0/3.0))\n",
    "print(\"  \" + to_binary(0.0).replace(\"0\", \"-\"))\n",
    "print(\"= \" + to_binary(7.0/3.0 - 4.0/3.0))"
   ]
  },
  {
   "cell_type": "markdown",
   "metadata": {},
   "source": [
    "Para restar floats IEEE 754 debemos correr la coma hasta lograr el mismo exponente en ambos números:"
   ]
  },
  {
   "cell_type": "code",
   "execution_count": 188,
   "metadata": {
    "collapsed": false
   },
   "outputs": [
    {
     "name": "stdout",
     "output_type": "stream",
     "text": [
      "  0 10000000000 0010101010101010101010101010101010101010101010101011\n",
      "- 0 10000000000 1010101010101010101010101010101010101010101010101010\n",
      "  - ----------- ----------------------------------------------------\n",
      "= 0 01111111111 0000000000000000000000000000000000000000000000000001\n"
     ]
    }
   ],
   "source": [
    "def shift_right(b, places):\n",
    "    sign, exp, mantissa = b\n",
    "    exp = bin(int(exp, 2) + places)[2:]\n",
    "    exp = (11 - len(exp)) * \"0\" + exp\n",
    "    return sign, exp, \"0\"*(places - 1) + \"1\" + mantissa[:(52 - places)]\n",
    "\n",
    "print(\"  \" + to_binary(7.0/3.0))\n",
    "print(\"- \" + \" \".join(shift_right(pack_binary(4.0/3.0), 1)))\n",
    "print(\"  \" + to_binary(0.0).replace(\"0\", \"-\"))\n",
    "print(\"= \" + to_binary(7.0/3.0 - 4.0/3.0))"
   ]
  },
  {
   "cell_type": "markdown",
   "metadata": {},
   "source": [
    "Por lo anterior, notamos que al hacer _shift_, redondear, restar los valores de puntos flotantes y normalizar perdemos información sobre los valores menos significativos, lo que resultará en que el valor final no sea exactamente $1$, si no que el valor siguiente a $1$ representable por este estándar."
   ]
  },
  {
   "cell_type": "markdown",
   "metadata": {
    "deletable": true,
    "editable": true
   },
   "source": [
    "b) Considere la serie geométrica:\n",
    "\n",
    "$$\\sum_{i=0}^{\\infty} r^i = \\frac{1}{1-r}$$ \n",
    "\n",
    "para $|r|<1$. Ahora considere el siguiente código."
   ]
  },
  {
   "cell_type": "code",
   "execution_count": 6,
   "metadata": {
    "collapsed": false,
    "deletable": true,
    "editable": true
   },
   "outputs": [],
   "source": [
    "# Suma parcial de serie geométrica.\n",
    "# Esta función realiza una suma parcial de la serie geométrica con M terminos, \n",
    "# pero detecta si es que los terminos que se están agregando aportan o no al\n",
    "# resultado final. En caso de que los terminos ya no aporten, se detiene el loop\n",
    "# y se retorna el valor obtenido y el índice en que se detuvo el loop.\n",
    "\n",
    "def my_partial_geometric_series(r, M):\n",
    "    sum_final = 1.0\n",
    "    sum_before = sum_final\n",
    "    final_index = -1\n",
    "    for i in np.arange(1, M):\n",
    "        sum_before += r**i\n",
    "        if sum_final == sum_before:\n",
    "            final_index = i - 1\n",
    "            break\n",
    "        else:\n",
    "            sum_final = sum_before\n",
    "    # Se retorna el valor obtenido de la suma parcial y cuando se truncó\n",
    "    # dado que no aportaba.\n",
    "    return np.array([sum_final, final_index])"
   ]
  },
  {
   "cell_type": "markdown",
   "metadata": {
    "deletable": true,
    "editable": true
   },
   "source": [
    "Ahora para distintos valores de $r$ se han obtenido el número de terminos que efectivamente aportan al resultado final dado que se está utilizando _double precision_."
   ]
  },
  {
   "cell_type": "code",
   "execution_count": 7,
   "metadata": {
    "collapsed": false,
    "deletable": true,
    "editable": true
   },
   "outputs": [],
   "source": [
    "N = 20\n",
    "M = 1e8\n",
    "r_all = np.logspace(-1, -20, N)\n",
    "out_data = np.zeros((N, 2))\n",
    "\n",
    "for i in np.arange(N):\n",
    "    out_data[i, :] = my_partial_geometric_series(r_all[i], M)"
   ]
  },
  {
   "cell_type": "markdown",
   "metadata": {
    "deletable": true,
    "editable": true
   },
   "source": [
    "Graficando la candidad de terminos significativos en _double precision_ versus el $r$."
   ]
  },
  {
   "cell_type": "code",
   "execution_count": 8,
   "metadata": {
    "collapsed": false,
    "deletable": true,
    "editable": true,
    "scrolled": true
   },
   "outputs": [
    {
     "data": {
      "image/png": "[encoded data removed]",
      "text/plain": [
       "<matplotlib.figure.Figure at 0x104ea4668>"
      ]
     },
     "metadata": {},
     "output_type": "display_data"
    }
   ],
   "source": [
    "plt.figure()\n",
    "plt.loglog(r_all, out_data[:, 1], '.')\n",
    "plt.grid(True)\n",
    "plt.ylim([10**(-0.5), np.max(out_data[:, 1]) + 1])\n",
    "plt.show()"
   ]
  },
  {
   "cell_type": "markdown",
   "metadata": {
    "deletable": true,
    "editable": true
   },
   "source": [
    "Explique cláramente por qué a medida que disminuye $r$ disminuye la cantidad de terminos significativos obtenidos.\n"
   ]
  },
  {
   "cell_type": "markdown",
   "metadata": {
    "collapsed": false,
    "deletable": true,
    "editable": true
   },
   "source": [
    "Es claro ver que al tener valores de $r$ cada vez más bajos, nuestra suma requerirá poder representar valores en la mantisa cada vez más pequeños, eventualmente nos encontraremos con valores tan pequeños que saldrán de la mantisa, siendo víctimas de la regla del redondeo.\n",
    "\n",
    "En el siguiente gráfico se podrá ver cómo se explica la perdida de nuestra representación, en términos de cada iteración."
   ]
  },
  {
   "cell_type": "code",
   "execution_count": 118,
   "metadata": {
    "collapsed": false,
    "scrolled": true
   },
   "outputs": [
    {
     "data": {
      "image/png": "[encoded data removed]",
      "text/plain": [
       "<matplotlib.figure.Figure at 0x104f4ec50>"
      ]
     },
     "metadata": {},
     "output_type": "display_data"
    }
   ],
   "source": [
    "import sys\n",
    "epsilon = sys.float_info.epsilon\n",
    "\n",
    "def my_partial_geometric_series_2(r, M):\n",
    "    sum_before = 1.0\n",
    "    for i in np.arange(1, M):\n",
    "        sum_before += r**i\n",
    "        yield [sum_before, i - 1]\n",
    "\n",
    "r = r_all[0]\n",
    "results = list(my_partial_geometric_series_2(r, 30))\n",
    "\n",
    "terms = []\n",
    "errs = []\n",
    "for t, i in results:\n",
    "    terms.append(r**(i + 1))\n",
    "    errs.append(t * epsilon / 2)\n",
    "\n",
    "plt.figure()\n",
    "plt.grid(True)\n",
    "plt.plot(np.arange(29), errs, label='Err = 1/2 * epsilon * r')\n",
    "plt.plot(np.arange(29), terms, label='Siguiente Término')\n",
    "plt.ylim(- 1e-16, 1e-15)\n",
    "plt.title('Siguiente Término vs Error Representable')\n",
    "plt.legend()\n",
    "plt.xlabel('Iteraciones')\n",
    "plt.show()"
   ]
  },
  {
   "cell_type": "markdown",
   "metadata": {},
   "source": [
    "En el gráfico anterior vemos que en la iteración $15$, con $r = 0.1$, corta al eje que nos indica si el error escalado permite representar los valores menores sumados, es decir:\n",
    "\n",
    "$$|fl(x) - x| < \\frac{1}{2} * \\epsilon * x$$\n",
    "\n",
    "Al tener valores sumados que son menores a este rango, no afectarán la suma final."
   ]
  },
  {
   "cell_type": "markdown",
   "metadata": {
    "deletable": true,
    "editable": true
   },
   "source": [
    "**C)** Explique la razón de por qué el loop indicado debe ejecutar el break. Utilice la función \"to_binary\" incluida en el jupyter notebook \"03_floating_point_arithmetic\" para entregar su justificación. Obtenga el menor valor de $X$ que ejecuta el break."
   ]
  },
  {
   "cell_type": "code",
   "execution_count": 12,
   "metadata": {
    "collapsed": false,
    "deletable": true,
    "editable": true
   },
   "outputs": [
    {
     "name": "stdout",
     "output_type": "stream",
     "text": [
      "They are equal! Why?\n"
     ]
    }
   ],
   "source": [
    "# Hint: Comenzando con X=1.0 se demorará mucho, piense primero, determine un buen X y luego ejecute el código.\n",
    "X = 9007199254740991.0\n",
    "a = X + 0.0\n",
    "b = X + 1.0\n",
    "\n",
    "while(True):\n",
    "    a += 1.0\n",
    "    b += 1.0\n",
    "    if a == b:\n",
    "        print('They are equal! Why?')\n",
    "        break"
   ]
  },
  {
   "cell_type": "markdown",
   "metadata": {
    "deletable": true,
    "editable": true
   },
   "source": [
    "<div id='perdida' />\n",
    "4. Perdida de Significancia\n",
    "---------------------------\n",
    "\n",
    "La **Pérdida de Significancia** ocurre cuando en un cálculo numérico muchos dígitos relevantes se cancelan, dada la aritmética de punto flotante finita ocupada por los computadores. Cuando un número es restado por otro número considerablemente parecido, efectos indeseados ocurren tales como la cancelación  y reducción de dígitos."
   ]
  },
  {
   "cell_type": "markdown",
   "metadata": {
    "deletable": true,
    "editable": true
   },
   "source": [
    "#### 1. Dada la función:\n",
    "\n",
    "$$f(x) = \\frac{1 - x}{ 1 + x} - \\frac{1}{3x+1}$$\n",
    "\n",
    "a) Grafique la función usando $x \\in {[-10,10]}$ ¿Para que valores de x la función queda reducida a $0$?"
   ]
  },
  {
   "cell_type": "code",
   "execution_count": 13,
   "metadata": {
    "collapsed": false,
    "deletable": true,
    "editable": true
   },
   "outputs": [],
   "source": [
    "def f(x):\n",
    "    return (1 - x)/(1 + x) - 1/(3 * x + 1)\n",
    "f = np.vectorize(f)"
   ]
  },
  {
   "cell_type": "code",
   "execution_count": 14,
   "metadata": {
    "collapsed": false,
    "deletable": true,
    "editable": true,
    "scrolled": false
   },
   "outputs": [
    {
     "data": {
      "image/png": "[encoded data removed]",
      "text/plain": [
       "<matplotlib.figure.Figure at 0x10509d828>"
      ]
     },
     "metadata": {},
     "output_type": "display_data"
    }
   ],
   "source": [
    "plt.figure(figsize=(14, 4))\n",
    "\n",
    "xs = np.linspace(-10, 10, 500)\n",
    "ys = f(xs)\n",
    "\n",
    "plt.subplot(1, 2, 1)\n",
    "plt.title(\"Original\")\n",
    "plt.grid(True)\n",
    "plt.plot(xs, ys)\n",
    "\n",
    "xs = np.linspace(-2, 2, 500)\n",
    "ys = f(xs)\n",
    "\n",
    "plt.subplot(1, 2, 2)\n",
    "plt.ylim(-1, 1)\n",
    "plt.title(\"Original\")\n",
    "plt.grid(True)\n",
    "plt.plot(xs, ys)\n",
    "\n",
    "plt.show()"
   ]
  },
  {
   "cell_type": "markdown",
   "metadata": {
    "deletable": true,
    "editable": true
   },
   "source": [
    "b) Usando $x = [10^{-1} , 10^{-2} , ... , 10^{-20}] $ , calcule los valores de f(x) ¿Que ocurre con los valores observados? ¿En que momento ocurre pérdida de significancia? Describa el origen de cancelación de digítos. "
   ]
  },
  {
   "cell_type": "code",
   "execution_count": 15,
   "metadata": {
    "collapsed": false,
    "deletable": true,
    "editable": true,
    "scrolled": true
   },
   "outputs": [
    {
     "data": {
      "image/png": "[encoded data removed]",
      "text/plain": [
       "<matplotlib.figure.Figure at 0x10504f320>"
      ]
     },
     "metadata": {},
     "output_type": "display_data"
    }
   ],
   "source": [
    "xs = np.logspace(-1, -20, 20)\n",
    "ys = f(xs)\n",
    "\n",
    "plt.figure()\n",
    "plt.grid(True)\n",
    "plt.ylim(-0.1, 0.1)\n",
    "plt.plot(xs, ys)\n",
    "plt.show()"
   ]
  },
  {
   "cell_type": "markdown",
   "metadata": {
    "deletable": true,
    "editable": true
   },
   "source": [
    "c) Reescriba la función original para evitar el proceso de pérdida de significancia (hint: busqué un denominador común para ambas fracciones.)"
   ]
  },
  {
   "cell_type": "code",
   "execution_count": 16,
   "metadata": {
    "collapsed": false,
    "deletable": true,
    "editable": true,
    "scrolled": false
   },
   "outputs": [
    {
     "data": {
      "image/png": "[encoded data removed]",
      "text/plain": [
       "<matplotlib.figure.Figure at 0x1050a6748>"
      ]
     },
     "metadata": {},
     "output_type": "display_data"
    }
   ],
   "source": [
    "def f2(x):\n",
    "    return (x - 3 * x**2)/(1 + 4 * x + 3 * x**2)\n",
    "f2 = np.vectorize(f2)\n",
    "\n",
    "xs = np.linspace(-2, 1, 500)\n",
    "\n",
    "plt.figure(figsize=(15, 4))\n",
    "plt.subplot(1, 2, 1)\n",
    "plt.ylim(-1, 1)\n",
    "plt.title(\"Original\")\n",
    "plt.grid(True)\n",
    "plt.plot(xs, f(xs))\n",
    "\n",
    "plt.subplot(1, 2, 2)\n",
    "plt.ylim(-1, 1)\n",
    "plt.title(\"Reescrita\")\n",
    "plt.grid(True)\n",
    "plt.plot(xs, f2(xs))\n",
    "plt.show()"
   ]
  },
  {
   "cell_type": "markdown",
   "metadata": {
    "deletable": true,
    "editable": true
   },
   "source": [
    "d) Analice la diferencia entre los resultados de la función $f(x)$ con la función reescrita en la pregunta anterior. Realice un gráfico que mida la diferencia entre los resultados del punto a) y c). Realice un análisis cualitativo y cuantitativo de los resultados."
   ]
  },
  {
   "cell_type": "markdown",
   "metadata": {
    "deletable": true,
    "editable": true
   },
   "source": [
    "#### 2. Para la siguiente función: \n",
    "\n",
    "$$g(x) = \\frac{1 - \\sec(x)}{\\tan(x)^2} $$\n",
    "\n",
    "a) Usando $x = [0,\\frac{\\pi}{4} ,\\frac{\\pi}{2}, \\frac{3\\pi}{4} , ... , 2\\pi ]$ (intervalo de $0$ a $2\\pi$ ) calcule los valores de esta función. Realice el mismo procedimiento del punto anterior."
   ]
  },
  {
   "cell_type": "code",
   "execution_count": null,
   "metadata": {
    "collapsed": true,
    "deletable": true,
    "editable": true
   },
   "outputs": [],
   "source": []
  }
 ],
 "metadata": {
  "anaconda-cloud": {},
  "kernelspec": {
   "display_name": "Python 3",
   "language": "python",
   "name": "python3"
  },
  "language_info": {
   "codemirror_mode": {
    "name": "ipython",
    "version": 3
   },
   "file_extension": ".py",
   "mimetype": "text/x-python",
   "name": "python",
   "nbconvert_exporter": "python",
   "pygments_lexer": "ipython3",
   "version": "3.6.0"
  }
 },
 "nbformat": 4,
 "nbformat_minor": 0
}
